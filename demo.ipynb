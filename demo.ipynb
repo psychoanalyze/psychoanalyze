{
 "cells": [
  {
   "cell_type": "code",
   "execution_count": 1,
   "metadata": {},
   "outputs": [
    {
     "name": "stderr",
     "output_type": "stream",
     "text": [
      "/workspaces/psychoanalyze/.venv/lib/python3.11/site-packages/tqdm/auto.py:22: TqdmWarning: IProgress not found. Please update jupyter and ipywidgets. See https://ipywidgets.readthedocs.io/en/stable/user_install.html\n",
      "  from .autonotebook import tqdm as notebook_tqdm\n"
     ]
    }
   ],
   "source": [
    "import psychoanalyze as pa"
   ]
  },
  {
   "cell_type": "code",
   "execution_count": null,
   "metadata": {},
   "outputs": [],
   "source": [
    "pa.simulate(source=\"data/trials.csv\")"
   ]
  },
  {
   "cell_type": "code",
   "execution_count": 2,
   "metadata": {},
   "outputs": [],
   "source": [
    "import plotly.express as px\n",
    "import pandas as pd"
   ]
  },
  {
   "cell_type": "code",
   "execution_count": null,
   "metadata": {},
   "outputs": [],
   "source": [
    "pri"
   ]
  },
  {
   "cell_type": "code",
   "execution_count": 4,
   "metadata": {},
   "outputs": [
    {
     "data": {
      "text/html": [
       "<div>\n",
       "<style scoped>\n",
       "    .dataframe tbody tr th:only-of-type {\n",
       "        vertical-align: middle;\n",
       "    }\n",
       "\n",
       "    .dataframe tbody tr th {\n",
       "        vertical-align: top;\n",
       "    }\n",
       "\n",
       "    .dataframe thead th {\n",
       "        text-align: right;\n",
       "    }\n",
       "</style>\n",
       "<table border=\"1\" class=\"dataframe\">\n",
       "  <thead>\n",
       "    <tr style=\"text-align: right;\">\n",
       "      <th></th>\n",
       "      <th>n</th>\n",
       "      <th>Hits</th>\n",
       "      <th>Hit Rate</th>\n",
       "    </tr>\n",
       "    <tr>\n",
       "      <th>TrialID</th>\n",
       "      <th></th>\n",
       "      <th></th>\n",
       "      <th></th>\n",
       "    </tr>\n",
       "  </thead>\n",
       "  <tbody>\n",
       "    <tr>\n",
       "      <th>0</th>\n",
       "      <td>1</td>\n",
       "      <td>0</td>\n",
       "      <td>0.0</td>\n",
       "    </tr>\n",
       "    <tr>\n",
       "      <th>1</th>\n",
       "      <td>1</td>\n",
       "      <td>0</td>\n",
       "      <td>0.0</td>\n",
       "    </tr>\n",
       "  </tbody>\n",
       "</table>\n",
       "</div>"
      ],
      "text/plain": [
       "         n  Hits  Hit Rate\n",
       "TrialID                   \n",
       "0        1     0       0.0\n",
       "1        1     0       0.0"
      ]
     },
     "execution_count": 4,
     "metadata": {},
     "output_type": "execute_result"
    }
   ],
   "source": [
    "trials = pd.DataFrame(\n",
    "        {\"Intensity\": [0, 1], \"Result\": [0, 1]}, index=pd.Index([0, 1], name=\"TrialID\")\n",
    "    )\n",
    "points = pa.points.from_trials(trials)\n",
    "points\n"
   ]
  },
  {
   "cell_type": "code",
   "execution_count": 13,
   "metadata": {},
   "outputs": [
    {
     "data": {
      "text/html": [
       "<div>\n",
       "<style scoped>\n",
       "    .dataframe tbody tr th:only-of-type {\n",
       "        vertical-align: middle;\n",
       "    }\n",
       "\n",
       "    .dataframe tbody tr th {\n",
       "        vertical-align: top;\n",
       "    }\n",
       "\n",
       "    .dataframe thead th {\n",
       "        text-align: right;\n",
       "    }\n",
       "</style>\n",
       "<table border=\"1\" class=\"dataframe\">\n",
       "  <thead>\n",
       "    <tr style=\"text-align: right;\">\n",
       "      <th></th>\n",
       "      <th>Trial</th>\n",
       "      <th>Intensity</th>\n",
       "      <th>Hit Rate</th>\n",
       "    </tr>\n",
       "  </thead>\n",
       "  <tbody>\n",
       "    <tr>\n",
       "      <th>0</th>\n",
       "      <td>0</td>\n",
       "      <td>0</td>\n",
       "      <td>0.0</td>\n",
       "    </tr>\n",
       "    <tr>\n",
       "      <th>1</th>\n",
       "      <td>0</td>\n",
       "      <td>1</td>\n",
       "      <td>NaN</td>\n",
       "    </tr>\n",
       "    <tr>\n",
       "      <th>2</th>\n",
       "      <td>1</td>\n",
       "      <td>0</td>\n",
       "      <td>0.0</td>\n",
       "    </tr>\n",
       "    <tr>\n",
       "      <th>3</th>\n",
       "      <td>1</td>\n",
       "      <td>1</td>\n",
       "      <td>1.0</td>\n",
       "    </tr>\n",
       "  </tbody>\n",
       "</table>\n",
       "</div>"
      ],
      "text/plain": [
       "   Trial  Intensity  Hit Rate\n",
       "0      0          0       0.0\n",
       "1      0          1       NaN\n",
       "2      1          0       0.0\n",
       "3      1          1       1.0"
      ]
     },
     "execution_count": 13,
     "metadata": {},
     "output_type": "execute_result"
    }
   ],
   "source": [
    "after_trial_1 = pd.Series([0, None], name=\"Hit Rate\", index=pd.Index([0, 1], name=\"Intensity\"))\n",
    "after_trial_2 = pd.Series([0,1], name=\"Hit Rate\", index=pd.Index([0,1], name=\"Intensity\"))\n",
    "df = pd.concat([after_trial_1, after_trial_2], keys=[0, 1, 1], names=[\"Trial\", \"Intensity\"])\n",
    "df = df.reset_index()\n",
    "df"
   ]
  },
  {
   "cell_type": "code",
   "execution_count": 12,
   "metadata": {},
   "outputs": [
    {
     "name": "stdout",
     "output_type": "stream",
     "text": [
      "Figure({\n",
      "    'data': [{'hovertemplate': 'Trial=0<br>Intensity=%{x}<br>Hit Rate=%{y}<extra></extra>',\n",
      "              'ids': array([0]),\n",
      "              'legendgroup': '',\n",
      "              'line': {'color': '#636efa', 'dash': 'solid'},\n",
      "              'marker': {'symbol': 'circle'},\n",
      "              'mode': 'lines',\n",
      "              'name': '',\n",
      "              'orientation': 'v',\n",
      "              'showlegend': False,\n",
      "              'type': 'scatter',\n",
      "              'x': array([0]),\n",
      "              'xaxis': 'x',\n",
      "              'y': array([0]),\n",
      "              'yaxis': 'y'}],\n",
      "    'frames': [{'data': [{'hovertemplate': 'Trial=0<br>Intensity=%{x}<br>Hit Rate=%{y}<extra></extra>',\n",
      "                          'ids': array([0]),\n",
      "                          'legendgroup': '',\n",
      "                          'line': {'color': '#636efa', 'dash': 'solid'},\n",
      "                          'marker': {'symbol': 'circle'},\n",
      "                          'mode': 'lines',\n",
      "                          'name': '',\n",
      "                          'orientation': 'v',\n",
      "                          'showlegend': False,\n",
      "                          'type': 'scatter',\n",
      "                          'x': array([0]),\n",
      "                          'xaxis': 'x',\n",
      "                          'y': array([0]),\n",
      "                          'yaxis': 'y'}],\n",
      "                'name': '0'},\n",
      "               {'data': [{'hovertemplate': 'Trial=1<br>Intensity=%{x}<br>Hit Rate=%{y}<extra></extra>',\n",
      "                          'ids': array([0, 1]),\n",
      "                          'legendgroup': '',\n",
      "                          'line': {'color': '#636efa', 'dash': 'solid'},\n",
      "                          'marker': {'symbol': 'circle'},\n",
      "                          'mode': 'lines',\n",
      "                          'name': '',\n",
      "                          'orientation': 'v',\n",
      "                          'showlegend': False,\n",
      "                          'type': 'scatter',\n",
      "                          'x': array([0, 1]),\n",
      "                          'xaxis': 'x',\n",
      "                          'y': array([0, 1]),\n",
      "                          'yaxis': 'y'}],\n",
      "                'name': '1'}],\n",
      "    'layout': {'legend': {'tracegroupgap': 0},\n",
      "               'margin': {'t': 60},\n",
      "               'sliders': [{'active': 0,\n",
      "                            'currentvalue': {'prefix': 'Trial='},\n",
      "                            'len': 0.9,\n",
      "                            'pad': {'b': 10, 't': 60},\n",
      "                            'steps': [{'args': [['0'], {'frame': {'duration': 0,\n",
      "                                                'redraw': False}, 'mode':\n",
      "                                                'immediate', 'fromcurrent': True,\n",
      "                                                'transition': {'duration': 0,\n",
      "                                                'easing': 'linear'}}],\n",
      "                                       'label': '0',\n",
      "                                       'method': 'animate'},\n",
      "                                      {'args': [['1'], {'frame': {'duration': 0,\n",
      "                                                'redraw': False}, 'mode':\n",
      "                                                'immediate', 'fromcurrent': True,\n",
      "                                                'transition': {'duration': 0,\n",
      "                                                'easing': 'linear'}}],\n",
      "                                       'label': '1',\n",
      "                                       'method': 'animate'}],\n",
      "                            'x': 0.1,\n",
      "                            'xanchor': 'left',\n",
      "                            'y': 0,\n",
      "                            'yanchor': 'top'}],\n",
      "               'template': '...',\n",
      "               'updatemenus': [{'buttons': [{'args': [None, {'frame': {'duration':\n",
      "                                                      500, 'redraw': False},\n",
      "                                                      'mode': 'immediate',\n",
      "                                                      'fromcurrent': True,\n",
      "                                                      'transition': {'duration':\n",
      "                                                      500, 'easing': 'linear'}}],\n",
      "                                             'label': '&#9654;',\n",
      "                                             'method': 'animate'},\n",
      "                                            {'args': [[None], {'frame':\n",
      "                                                      {'duration': 0, 'redraw':\n",
      "                                                      False}, 'mode': 'immediate',\n",
      "                                                      'fromcurrent': True,\n",
      "                                                      'transition': {'duration': 0,\n",
      "                                                      'easing': 'linear'}}],\n",
      "                                             'label': '&#9724;',\n",
      "                                             'method': 'animate'}],\n",
      "                                'direction': 'left',\n",
      "                                'pad': {'r': 10, 't': 70},\n",
      "                                'showactive': False,\n",
      "                                'type': 'buttons',\n",
      "                                'x': 0.1,\n",
      "                                'xanchor': 'right',\n",
      "                                'y': 0,\n",
      "                                'yanchor': 'top'}],\n",
      "               'xaxis': {'anchor': 'y', 'domain': [0.0, 1.0], 'title': {'text': 'Intensity'}},\n",
      "               'yaxis': {'anchor': 'x', 'domain': [0.0, 1.0], 'title': {'text': 'Hit Rate'}}}\n",
      "})\n"
     ]
    }
   ],
   "source": [
    "\n",
    "fig = px.line(df, x=\"Intensity\", y=\"Hit Rate\", animation_group=\"Intensity\", animation_frame=\"Trial\")\n",
    "print(fig)"
   ]
  },
  {
   "cell_type": "code",
   "execution_count": null,
   "metadata": {},
   "outputs": [],
   "source": []
  }
 ],
 "metadata": {
  "kernelspec": {
   "display_name": ".venv",
   "language": "python",
   "name": "python3"
  },
  "language_info": {
   "codemirror_mode": {
    "name": "ipython",
    "version": 3
   },
   "file_extension": ".py",
   "mimetype": "text/x-python",
   "name": "python",
   "nbconvert_exporter": "python",
   "pygments_lexer": "ipython3",
   "version": "3.11.3"
  },
  "orig_nbformat": 4
 },
 "nbformat": 4,
 "nbformat_minor": 2
}
