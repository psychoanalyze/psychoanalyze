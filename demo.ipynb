{
 "cells": [
  {
   "cell_type": "code",
   "execution_count": 29,
   "metadata": {},
   "outputs": [],
   "source": [
    "import plotly.express as px\n",
    "import pandas as pd\n",
    "import random\n",
    "import numpy as np\n",
    "from scipy.special import expit\n",
    "from sklearn.linear_model import LogisticRegression\n",
    "import psychoanalyze as pa"
   ]
  },
  {
   "cell_type": "code",
   "execution_count": 30,
   "metadata": {},
   "outputs": [],
   "source": [
    "min_intensity = -4\n",
    "max_intensity = 4\n",
    "n_trials = 100"
   ]
  },
  {
   "cell_type": "code",
   "execution_count": 31,
   "metadata": {},
   "outputs": [
    {
     "data": {
      "text/html": [
       "<div>\n",
       "<style scoped>\n",
       "    .dataframe tbody tr th:only-of-type {\n",
       "        vertical-align: middle;\n",
       "    }\n",
       "\n",
       "    .dataframe tbody tr th {\n",
       "        vertical-align: top;\n",
       "    }\n",
       "\n",
       "    .dataframe thead th {\n",
       "        text-align: right;\n",
       "    }\n",
       "</style>\n",
       "<table border=\"1\" class=\"dataframe\">\n",
       "  <thead>\n",
       "    <tr style=\"text-align: right;\">\n",
       "      <th></th>\n",
       "      <th>Intensity</th>\n",
       "      <th>n</th>\n",
       "      <th>Hits</th>\n",
       "      <th>Hit Rate</th>\n",
       "    </tr>\n",
       "  </thead>\n",
       "  <tbody>\n",
       "    <tr>\n",
       "      <th>0</th>\n",
       "      <td>-4</td>\n",
       "      <td>11</td>\n",
       "      <td>0</td>\n",
       "      <td>0.000000</td>\n",
       "    </tr>\n",
       "    <tr>\n",
       "      <th>1</th>\n",
       "      <td>-3</td>\n",
       "      <td>10</td>\n",
       "      <td>1</td>\n",
       "      <td>0.100000</td>\n",
       "    </tr>\n",
       "    <tr>\n",
       "      <th>2</th>\n",
       "      <td>-2</td>\n",
       "      <td>9</td>\n",
       "      <td>1</td>\n",
       "      <td>0.111111</td>\n",
       "    </tr>\n",
       "    <tr>\n",
       "      <th>3</th>\n",
       "      <td>-1</td>\n",
       "      <td>12</td>\n",
       "      <td>3</td>\n",
       "      <td>0.250000</td>\n",
       "    </tr>\n",
       "    <tr>\n",
       "      <th>4</th>\n",
       "      <td>0</td>\n",
       "      <td>13</td>\n",
       "      <td>7</td>\n",
       "      <td>0.538462</td>\n",
       "    </tr>\n",
       "    <tr>\n",
       "      <th>5</th>\n",
       "      <td>1</td>\n",
       "      <td>16</td>\n",
       "      <td>13</td>\n",
       "      <td>0.812500</td>\n",
       "    </tr>\n",
       "    <tr>\n",
       "      <th>6</th>\n",
       "      <td>2</td>\n",
       "      <td>8</td>\n",
       "      <td>8</td>\n",
       "      <td>1.000000</td>\n",
       "    </tr>\n",
       "    <tr>\n",
       "      <th>7</th>\n",
       "      <td>3</td>\n",
       "      <td>9</td>\n",
       "      <td>9</td>\n",
       "      <td>1.000000</td>\n",
       "    </tr>\n",
       "    <tr>\n",
       "      <th>8</th>\n",
       "      <td>4</td>\n",
       "      <td>12</td>\n",
       "      <td>12</td>\n",
       "      <td>1.000000</td>\n",
       "    </tr>\n",
       "  </tbody>\n",
       "</table>\n",
       "</div>"
      ],
      "text/plain": [
       "   Intensity   n  Hits  Hit Rate\n",
       "0         -4  11     0  0.000000\n",
       "1         -3  10     1  0.100000\n",
       "2         -2   9     1  0.111111\n",
       "3         -1  12     3  0.250000\n",
       "4          0  13     7  0.538462\n",
       "5          1  16    13  0.812500\n",
       "6          2   8     8  1.000000\n",
       "7          3   9     9  1.000000\n",
       "8          4  12    12  1.000000"
      ]
     },
     "execution_count": 31,
     "metadata": {},
     "output_type": "execute_result"
    }
   ],
   "source": [
    "intensity_choices = list(range(min_intensity, max_intensity + 1))\n",
    "intensities = [random.choice(intensity_choices) for _ in range(n_trials)]\n",
    "results = [random.random() <= expit(intensity) for intensity in intensities]\n",
    "trials = pd.DataFrame(\n",
    "    {\n",
    "        \"Intensity\": intensities,\n",
    "        \"Result\": results,\n",
    "    }\n",
    ")\n",
    "points = pa.points.from_trials(trials).reset_index()\n",
    "points"
   ]
  },
  {
   "cell_type": "code",
   "execution_count": 36,
   "metadata": {},
   "outputs": [
    {
     "data": {
      "text/html": [
       "<div>\n",
       "<style scoped>\n",
       "    .dataframe tbody tr th:only-of-type {\n",
       "        vertical-align: middle;\n",
       "    }\n",
       "\n",
       "    .dataframe tbody tr th {\n",
       "        vertical-align: top;\n",
       "    }\n",
       "\n",
       "    .dataframe thead th {\n",
       "        text-align: right;\n",
       "    }\n",
       "</style>\n",
       "<table border=\"1\" class=\"dataframe\">\n",
       "  <thead>\n",
       "    <tr style=\"text-align: right;\">\n",
       "      <th></th>\n",
       "      <th></th>\n",
       "      <th>Intensity</th>\n",
       "      <th>n</th>\n",
       "      <th>Hits</th>\n",
       "      <th>Hit Rate</th>\n",
       "    </tr>\n",
       "    <tr>\n",
       "      <th>Source</th>\n",
       "      <th></th>\n",
       "      <th></th>\n",
       "      <th></th>\n",
       "      <th></th>\n",
       "      <th></th>\n",
       "    </tr>\n",
       "  </thead>\n",
       "  <tbody>\n",
       "    <tr>\n",
       "      <th rowspan=\"5\" valign=\"top\">observed</th>\n",
       "      <th>0</th>\n",
       "      <td>-4.000000</td>\n",
       "      <td>11.0</td>\n",
       "      <td>0.0</td>\n",
       "      <td>0.000000</td>\n",
       "    </tr>\n",
       "    <tr>\n",
       "      <th>1</th>\n",
       "      <td>-3.000000</td>\n",
       "      <td>10.0</td>\n",
       "      <td>1.0</td>\n",
       "      <td>0.100000</td>\n",
       "    </tr>\n",
       "    <tr>\n",
       "      <th>2</th>\n",
       "      <td>-2.000000</td>\n",
       "      <td>9.0</td>\n",
       "      <td>1.0</td>\n",
       "      <td>0.111111</td>\n",
       "    </tr>\n",
       "    <tr>\n",
       "      <th>3</th>\n",
       "      <td>-1.000000</td>\n",
       "      <td>12.0</td>\n",
       "      <td>3.0</td>\n",
       "      <td>0.250000</td>\n",
       "    </tr>\n",
       "    <tr>\n",
       "      <th>4</th>\n",
       "      <td>0.000000</td>\n",
       "      <td>13.0</td>\n",
       "      <td>7.0</td>\n",
       "      <td>0.538462</td>\n",
       "    </tr>\n",
       "    <tr>\n",
       "      <th>...</th>\n",
       "      <th>...</th>\n",
       "      <td>...</td>\n",
       "      <td>...</td>\n",
       "      <td>...</td>\n",
       "      <td>...</td>\n",
       "    </tr>\n",
       "    <tr>\n",
       "      <th rowspan=\"5\" valign=\"top\">fit</th>\n",
       "      <th>95</th>\n",
       "      <td>3.676768</td>\n",
       "      <td>NaN</td>\n",
       "      <td>NaN</td>\n",
       "      <td>0.975320</td>\n",
       "    </tr>\n",
       "    <tr>\n",
       "      <th>96</th>\n",
       "      <td>3.757576</td>\n",
       "      <td>NaN</td>\n",
       "      <td>NaN</td>\n",
       "      <td>0.977192</td>\n",
       "    </tr>\n",
       "    <tr>\n",
       "      <th>97</th>\n",
       "      <td>3.838384</td>\n",
       "      <td>NaN</td>\n",
       "      <td>NaN</td>\n",
       "      <td>0.978925</td>\n",
       "    </tr>\n",
       "    <tr>\n",
       "      <th>98</th>\n",
       "      <td>3.919192</td>\n",
       "      <td>NaN</td>\n",
       "      <td>NaN</td>\n",
       "      <td>0.980529</td>\n",
       "    </tr>\n",
       "    <tr>\n",
       "      <th>99</th>\n",
       "      <td>4.000000</td>\n",
       "      <td>NaN</td>\n",
       "      <td>NaN</td>\n",
       "      <td>0.982014</td>\n",
       "    </tr>\n",
       "  </tbody>\n",
       "</table>\n",
       "<p>109 rows × 4 columns</p>\n",
       "</div>"
      ],
      "text/plain": [
       "             Intensity     n  Hits  Hit Rate\n",
       "Source                                      \n",
       "observed 0   -4.000000  11.0   0.0  0.000000\n",
       "         1   -3.000000  10.0   1.0  0.100000\n",
       "         2   -2.000000   9.0   1.0  0.111111\n",
       "         3   -1.000000  12.0   3.0  0.250000\n",
       "         4    0.000000  13.0   7.0  0.538462\n",
       "...                ...   ...   ...       ...\n",
       "fit      95   3.676768   NaN   NaN  0.975320\n",
       "         96   3.757576   NaN   NaN  0.977192\n",
       "         97   3.838384   NaN   NaN  0.978925\n",
       "         98   3.919192   NaN   NaN  0.980529\n",
       "         99   4.000000   NaN   NaN  0.982014\n",
       "\n",
       "[109 rows x 4 columns]"
      ]
     },
     "execution_count": 36,
     "metadata": {},
     "output_type": "execute_result"
    }
   ],
   "source": [
    "pd.concat(\n",
    "        [\n",
    "            points,\n",
    "            pd.DataFrame(\n",
    "                {\n",
    "                    \"Intensity\": np.linspace(-4, 4, 100),\n",
    "                    \"Hit Rate\": expit(np.linspace(-4, 4, 100)),\n",
    "                }\n",
    "            ),\n",
    "        ],\n",
    "        keys= [\"observed\", \"fit\"],\n",
    "        names=[\"Source\"],\n",
    "\n",
    ")"
   ]
  },
  {
   "cell_type": "code",
   "execution_count": 50,
   "metadata": {},
   "outputs": [
    {
     "data": {
      "text/plain": [
       "[-4, -3, -2, -1, 0, 1, 2, 3, 4]"
      ]
     },
     "execution_count": 50,
     "metadata": {},
     "output_type": "execute_result"
    }
   ],
   "source": [
    "intensity_choices"
   ]
  },
  {
   "cell_type": "code",
   "execution_count": 57,
   "metadata": {},
   "outputs": [
    {
     "data": {
      "text/plain": [
       "array([0.96677737, 0.92608518, 0.84361411, 0.69903025, 0.5       ,\n",
       "       0.30096975, 0.15638589, 0.07391482, 0.03322263])"
      ]
     },
     "execution_count": 57,
     "metadata": {},
     "output_type": "execute_result"
    }
   ],
   "source": [
    "fits.predict_proba(pd.DataFrame({\"Intensity\": intensity_choices}))[:,0]"
   ]
  },
  {
   "cell_type": "code",
   "execution_count": 24,
   "metadata": {},
   "outputs": [],
   "source": [
    "\n",
    "fits = LogisticRegression(fit_intercept=False).fit(trials[[\"Intensity\"]], trials[\"Result\"])"
   ]
  },
  {
   "cell_type": "code",
   "execution_count": 71,
   "metadata": {},
   "outputs": [],
   "source": [
    "k = 1\n",
    "intensity_choices = np.array(list(range(min_intensity, max_intensity + 1)))\n",
    "model_hit_rates = 1 / (1 + np.exp(-k * intensity_choices))"
   ]
  },
  {
   "cell_type": "code",
   "execution_count": 72,
   "metadata": {},
   "outputs": [
    {
     "data": {
      "text/plain": [
       "array([0.01798621, 0.04742587, 0.11920292, 0.26894142, 0.5       ,\n",
       "       0.73105858, 0.88079708, 0.95257413, 0.98201379])"
      ]
     },
     "execution_count": 72,
     "metadata": {},
     "output_type": "execute_result"
    }
   ],
   "source": [
    "model_hit_rates"
   ]
  },
  {
   "cell_type": "code",
   "execution_count": 25,
   "metadata": {},
   "outputs": [
    {
     "data": {
      "text/plain": [
       "array([[0.84268427]])"
      ]
     },
     "execution_count": 25,
     "metadata": {},
     "output_type": "execute_result"
    }
   ],
   "source": [
    "fits.coef_"
   ]
  },
  {
   "cell_type": "code",
   "execution_count": 26,
   "metadata": {},
   "outputs": [
    {
     "data": {
      "text/plain": [
       "array([0.])"
      ]
     },
     "execution_count": 26,
     "metadata": {},
     "output_type": "execute_result"
    }
   ],
   "source": [
    "fits.intercept_"
   ]
  },
  {
   "cell_type": "code",
   "execution_count": 4,
   "metadata": {},
   "outputs": [
    {
     "data": {
      "text/html": [
       "<div>\n",
       "<style scoped>\n",
       "    .dataframe tbody tr th:only-of-type {\n",
       "        vertical-align: middle;\n",
       "    }\n",
       "\n",
       "    .dataframe tbody tr th {\n",
       "        vertical-align: top;\n",
       "    }\n",
       "\n",
       "    .dataframe thead th {\n",
       "        text-align: right;\n",
       "    }\n",
       "</style>\n",
       "<table border=\"1\" class=\"dataframe\">\n",
       "  <thead>\n",
       "    <tr style=\"text-align: right;\">\n",
       "      <th></th>\n",
       "      <th>n</th>\n",
       "      <th>Hits</th>\n",
       "      <th>Hit Rate</th>\n",
       "    </tr>\n",
       "    <tr>\n",
       "      <th>TrialID</th>\n",
       "      <th></th>\n",
       "      <th></th>\n",
       "      <th></th>\n",
       "    </tr>\n",
       "  </thead>\n",
       "  <tbody>\n",
       "    <tr>\n",
       "      <th>0</th>\n",
       "      <td>1</td>\n",
       "      <td>0</td>\n",
       "      <td>0.0</td>\n",
       "    </tr>\n",
       "    <tr>\n",
       "      <th>1</th>\n",
       "      <td>1</td>\n",
       "      <td>0</td>\n",
       "      <td>0.0</td>\n",
       "    </tr>\n",
       "  </tbody>\n",
       "</table>\n",
       "</div>"
      ],
      "text/plain": [
       "         n  Hits  Hit Rate\n",
       "TrialID                   \n",
       "0        1     0       0.0\n",
       "1        1     0       0.0"
      ]
     },
     "execution_count": 4,
     "metadata": {},
     "output_type": "execute_result"
    }
   ],
   "source": [
    "trials = pd.DataFrame(\n",
    "        {\"Intensity\": [0, 1], \"Result\": [0, 1]}, index=pd.Index([0, 1], name=\"TrialID\")\n",
    "    )\n",
    "points = pa.points.from_trials(trials)\n",
    "points\n"
   ]
  },
  {
   "cell_type": "code",
   "execution_count": 13,
   "metadata": {},
   "outputs": [
    {
     "data": {
      "text/html": [
       "<div>\n",
       "<style scoped>\n",
       "    .dataframe tbody tr th:only-of-type {\n",
       "        vertical-align: middle;\n",
       "    }\n",
       "\n",
       "    .dataframe tbody tr th {\n",
       "        vertical-align: top;\n",
       "    }\n",
       "\n",
       "    .dataframe thead th {\n",
       "        text-align: right;\n",
       "    }\n",
       "</style>\n",
       "<table border=\"1\" class=\"dataframe\">\n",
       "  <thead>\n",
       "    <tr style=\"text-align: right;\">\n",
       "      <th></th>\n",
       "      <th>Trial</th>\n",
       "      <th>Intensity</th>\n",
       "      <th>Hit Rate</th>\n",
       "    </tr>\n",
       "  </thead>\n",
       "  <tbody>\n",
       "    <tr>\n",
       "      <th>0</th>\n",
       "      <td>0</td>\n",
       "      <td>0</td>\n",
       "      <td>0.0</td>\n",
       "    </tr>\n",
       "    <tr>\n",
       "      <th>1</th>\n",
       "      <td>0</td>\n",
       "      <td>1</td>\n",
       "      <td>NaN</td>\n",
       "    </tr>\n",
       "    <tr>\n",
       "      <th>2</th>\n",
       "      <td>1</td>\n",
       "      <td>0</td>\n",
       "      <td>0.0</td>\n",
       "    </tr>\n",
       "    <tr>\n",
       "      <th>3</th>\n",
       "      <td>1</td>\n",
       "      <td>1</td>\n",
       "      <td>1.0</td>\n",
       "    </tr>\n",
       "  </tbody>\n",
       "</table>\n",
       "</div>"
      ],
      "text/plain": [
       "   Trial  Intensity  Hit Rate\n",
       "0      0          0       0.0\n",
       "1      0          1       NaN\n",
       "2      1          0       0.0\n",
       "3      1          1       1.0"
      ]
     },
     "execution_count": 13,
     "metadata": {},
     "output_type": "execute_result"
    }
   ],
   "source": [
    "after_trial_1 = pd.Series([0, None], name=\"Hit Rate\", index=pd.Index([0, 1], name=\"Intensity\"))\n",
    "after_trial_2 = pd.Series([0,1], name=\"Hit Rate\", index=pd.Index([0,1], name=\"Intensity\"))\n",
    "df = pd.concat([after_trial_1, after_trial_2], keys=[0, 1, 1], names=[\"Trial\", \"Intensity\"])\n",
    "df = df.reset_index()\n",
    "df"
   ]
  },
  {
   "cell_type": "code",
   "execution_count": 12,
   "metadata": {},
   "outputs": [
    {
     "name": "stdout",
     "output_type": "stream",
     "text": [
      "Figure({\n",
      "    'data': [{'hovertemplate': 'Trial=0<br>Intensity=%{x}<br>Hit Rate=%{y}<extra></extra>',\n",
      "              'ids': array([0]),\n",
      "              'legendgroup': '',\n",
      "              'line': {'color': '#636efa', 'dash': 'solid'},\n",
      "              'marker': {'symbol': 'circle'},\n",
      "              'mode': 'lines',\n",
      "              'name': '',\n",
      "              'orientation': 'v',\n",
      "              'showlegend': False,\n",
      "              'type': 'scatter',\n",
      "              'x': array([0]),\n",
      "              'xaxis': 'x',\n",
      "              'y': array([0]),\n",
      "              'yaxis': 'y'}],\n",
      "    'frames': [{'data': [{'hovertemplate': 'Trial=0<br>Intensity=%{x}<br>Hit Rate=%{y}<extra></extra>',\n",
      "                          'ids': array([0]),\n",
      "                          'legendgroup': '',\n",
      "                          'line': {'color': '#636efa', 'dash': 'solid'},\n",
      "                          'marker': {'symbol': 'circle'},\n",
      "                          'mode': 'lines',\n",
      "                          'name': '',\n",
      "                          'orientation': 'v',\n",
      "                          'showlegend': False,\n",
      "                          'type': 'scatter',\n",
      "                          'x': array([0]),\n",
      "                          'xaxis': 'x',\n",
      "                          'y': array([0]),\n",
      "                          'yaxis': 'y'}],\n",
      "                'name': '0'},\n",
      "               {'data': [{'hovertemplate': 'Trial=1<br>Intensity=%{x}<br>Hit Rate=%{y}<extra></extra>',\n",
      "                          'ids': array([0, 1]),\n",
      "                          'legendgroup': '',\n",
      "                          'line': {'color': '#636efa', 'dash': 'solid'},\n",
      "                          'marker': {'symbol': 'circle'},\n",
      "                          'mode': 'lines',\n",
      "                          'name': '',\n",
      "                          'orientation': 'v',\n",
      "                          'showlegend': False,\n",
      "                          'type': 'scatter',\n",
      "                          'x': array([0, 1]),\n",
      "                          'xaxis': 'x',\n",
      "                          'y': array([0, 1]),\n",
      "                          'yaxis': 'y'}],\n",
      "                'name': '1'}],\n",
      "    'layout': {'legend': {'tracegroupgap': 0},\n",
      "               'margin': {'t': 60},\n",
      "               'sliders': [{'active': 0,\n",
      "                            'currentvalue': {'prefix': 'Trial='},\n",
      "                            'len': 0.9,\n",
      "                            'pad': {'b': 10, 't': 60},\n",
      "                            'steps': [{'args': [['0'], {'frame': {'duration': 0,\n",
      "                                                'redraw': False}, 'mode':\n",
      "                                                'immediate', 'fromcurrent': True,\n",
      "                                                'transition': {'duration': 0,\n",
      "                                                'easing': 'linear'}}],\n",
      "                                       'label': '0',\n",
      "                                       'method': 'animate'},\n",
      "                                      {'args': [['1'], {'frame': {'duration': 0,\n",
      "                                                'redraw': False}, 'mode':\n",
      "                                                'immediate', 'fromcurrent': True,\n",
      "                                                'transition': {'duration': 0,\n",
      "                                                'easing': 'linear'}}],\n",
      "                                       'label': '1',\n",
      "                                       'method': 'animate'}],\n",
      "                            'x': 0.1,\n",
      "                            'xanchor': 'left',\n",
      "                            'y': 0,\n",
      "                            'yanchor': 'top'}],\n",
      "               'template': '...',\n",
      "               'updatemenus': [{'buttons': [{'args': [None, {'frame': {'duration':\n",
      "                                                      500, 'redraw': False},\n",
      "                                                      'mode': 'immediate',\n",
      "                                                      'fromcurrent': True,\n",
      "                                                      'transition': {'duration':\n",
      "                                                      500, 'easing': 'linear'}}],\n",
      "                                             'label': '&#9654;',\n",
      "                                             'method': 'animate'},\n",
      "                                            {'args': [[None], {'frame':\n",
      "                                                      {'duration': 0, 'redraw':\n",
      "                                                      False}, 'mode': 'immediate',\n",
      "                                                      'fromcurrent': True,\n",
      "                                                      'transition': {'duration': 0,\n",
      "                                                      'easing': 'linear'}}],\n",
      "                                             'label': '&#9724;',\n",
      "                                             'method': 'animate'}],\n",
      "                                'direction': 'left',\n",
      "                                'pad': {'r': 10, 't': 70},\n",
      "                                'showactive': False,\n",
      "                                'type': 'buttons',\n",
      "                                'x': 0.1,\n",
      "                                'xanchor': 'right',\n",
      "                                'y': 0,\n",
      "                                'yanchor': 'top'}],\n",
      "               'xaxis': {'anchor': 'y', 'domain': [0.0, 1.0], 'title': {'text': 'Intensity'}},\n",
      "               'yaxis': {'anchor': 'x', 'domain': [0.0, 1.0], 'title': {'text': 'Hit Rate'}}}\n",
      "})\n"
     ]
    }
   ],
   "source": [
    "\n",
    "fig = px.line(df, x=\"Intensity\", y=\"Hit Rate\", animation_group=\"Intensity\", animation_frame=\"Trial\")\n",
    "print(fig)"
   ]
  },
  {
   "cell_type": "code",
   "execution_count": null,
   "metadata": {},
   "outputs": [],
   "source": []
  }
 ],
 "metadata": {
  "kernelspec": {
   "display_name": ".venv",
   "language": "python",
   "name": "python3"
  },
  "language_info": {
   "codemirror_mode": {
    "name": "ipython",
    "version": 3
   },
   "file_extension": ".py",
   "mimetype": "text/x-python",
   "name": "python",
   "nbconvert_exporter": "python",
   "pygments_lexer": "ipython3",
   "version": "3.11.3"
  },
  "orig_nbformat": 4
 },
 "nbformat": 4,
 "nbformat_minor": 2
}
