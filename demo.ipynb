{
 "cells": [
  {
   "cell_type": "code",
   "execution_count": 122,
   "metadata": {},
   "outputs": [
    {
     "name": "stdout",
     "output_type": "stream",
     "text": [
      "The autoreload extension is already loaded. To reload it, use:\n",
      "  %reload_ext autoreload\n"
     ]
    }
   ],
   "source": [
    "%load_ext autoreload\n",
    "%autoreload 2\n",
    "import pandas as pd\n",
    "import psychoanalyze as pa"
   ]
  },
  {
   "cell_type": "code",
   "execution_count": 135,
   "metadata": {},
   "outputs": [],
   "source": [
    "min_intensity = -4\n",
    "max_intensity = 4\n",
    "fixed_min = -4\n",
    "fixed_max = 4\n",
    "k=1\n",
    "x_0=0\n",
    "n_trials = 100\n",
    "n_blocks = 2\n",
    "n_subjects = 2"
   ]
  },
  {
   "cell_type": "code",
   "execution_count": 146,
   "metadata": {},
   "outputs": [
    {
     "ename": "KeyError",
     "evalue": "'Result'",
     "output_type": "error",
     "traceback": [
      "\u001b[0;31m---------------------------------------------------------------------------\u001b[0m",
      "\u001b[0;31mKeyError\u001b[0m                                  Traceback (most recent call last)",
      "File \u001b[0;32m/workspaces/psychoanalyze/.venv/lib/python3.11/site-packages/pandas/core/indexes/base.py:3802\u001b[0m, in \u001b[0;36mIndex.get_loc\u001b[0;34m(self, key, method, tolerance)\u001b[0m\n\u001b[1;32m   3801\u001b[0m \u001b[39mtry\u001b[39;00m:\n\u001b[0;32m-> 3802\u001b[0m     \u001b[39mreturn\u001b[39;00m \u001b[39mself\u001b[39;49m\u001b[39m.\u001b[39;49m_engine\u001b[39m.\u001b[39;49mget_loc(casted_key)\n\u001b[1;32m   3803\u001b[0m \u001b[39mexcept\u001b[39;00m \u001b[39mKeyError\u001b[39;00m \u001b[39mas\u001b[39;00m err:\n",
      "File \u001b[0;32m/workspaces/psychoanalyze/.venv/lib/python3.11/site-packages/pandas/_libs/index.pyx:138\u001b[0m, in \u001b[0;36mpandas._libs.index.IndexEngine.get_loc\u001b[0;34m()\u001b[0m\n",
      "File \u001b[0;32m/workspaces/psychoanalyze/.venv/lib/python3.11/site-packages/pandas/_libs/index.pyx:146\u001b[0m, in \u001b[0;36mpandas._libs.index.IndexEngine.get_loc\u001b[0;34m()\u001b[0m\n",
      "File \u001b[0;32mpandas/_libs/index_class_helper.pxi:49\u001b[0m, in \u001b[0;36mpandas._libs.index.Int64Engine._check_type\u001b[0;34m()\u001b[0m\n",
      "\u001b[0;31mKeyError\u001b[0m: 'Result'",
      "\nThe above exception was the direct cause of the following exception:\n",
      "\u001b[0;31mKeyError\u001b[0m                                  Traceback (most recent call last)",
      "Cell \u001b[0;32mIn[146], line 1\u001b[0m\n\u001b[0;32m----> 1\u001b[0m pa\u001b[39m.\u001b[39;49mpoints\u001b[39m.\u001b[39;49mfrom_trials(pa\u001b[39m.\u001b[39;49mtrials\u001b[39m.\u001b[39;49mmoc_sample(\n\u001b[1;32m      2\u001b[0m     min_intensity, max_intensity, n_trials, k, x_0\n\u001b[1;32m      3\u001b[0m ))\n",
      "File \u001b[0;32m/workspaces/psychoanalyze/psychoanalyze/points.py:16\u001b[0m, in \u001b[0;36mfrom_trials\u001b[0;34m(trials)\u001b[0m\n\u001b[1;32m     15\u001b[0m \u001b[39mdef\u001b[39;00m \u001b[39mfrom_trials\u001b[39m(trials: pd\u001b[39m.\u001b[39mDataFrame) \u001b[39m-\u001b[39m\u001b[39m>\u001b[39m pd\u001b[39m.\u001b[39mDataFrame:\n\u001b[0;32m---> 16\u001b[0m     test_trials \u001b[39m=\u001b[39m trials[trials[\u001b[39m\"\u001b[39;49m\u001b[39mResult\u001b[39;49m\u001b[39m\"\u001b[39;49m]\u001b[39m.\u001b[39misin([\u001b[39m0\u001b[39m, \u001b[39m1\u001b[39m])]\n\u001b[1;32m     17\u001b[0m     points \u001b[39m=\u001b[39m (\n\u001b[1;32m     18\u001b[0m         test_trials\u001b[39m.\u001b[39mgroupby(\u001b[39m\"\u001b[39m\u001b[39mIntensity\u001b[39m\u001b[39m\"\u001b[39m)[\u001b[39m\"\u001b[39m\u001b[39mResult\u001b[39m\u001b[39m\"\u001b[39m]\n\u001b[1;32m     19\u001b[0m         \u001b[39m.\u001b[39magg([\u001b[39m\"\u001b[39m\u001b[39mcount\u001b[39m\u001b[39m\"\u001b[39m, \u001b[39m\"\u001b[39m\u001b[39msum\u001b[39m\u001b[39m\"\u001b[39m])\n\u001b[1;32m     20\u001b[0m         \u001b[39m.\u001b[39mrename(columns\u001b[39m=\u001b[39m{\u001b[39m\"\u001b[39m\u001b[39mcount\u001b[39m\u001b[39m\"\u001b[39m: \u001b[39m\"\u001b[39m\u001b[39mn\u001b[39m\u001b[39m\"\u001b[39m, \u001b[39m\"\u001b[39m\u001b[39msum\u001b[39m\u001b[39m\"\u001b[39m: \u001b[39m\"\u001b[39m\u001b[39mHits\u001b[39m\u001b[39m\"\u001b[39m})\n\u001b[1;32m     21\u001b[0m     )\n\u001b[1;32m     22\u001b[0m     points[\u001b[39m\"\u001b[39m\u001b[39mHit Rate\u001b[39m\u001b[39m\"\u001b[39m] \u001b[39m=\u001b[39m points[\u001b[39m\"\u001b[39m\u001b[39mHits\u001b[39m\u001b[39m\"\u001b[39m] \u001b[39m/\u001b[39m points[\u001b[39m\"\u001b[39m\u001b[39mn\u001b[39m\u001b[39m\"\u001b[39m]\n",
      "File \u001b[0;32m/workspaces/psychoanalyze/.venv/lib/python3.11/site-packages/pandas/core/series.py:981\u001b[0m, in \u001b[0;36mSeries.__getitem__\u001b[0;34m(self, key)\u001b[0m\n\u001b[1;32m    978\u001b[0m     \u001b[39mreturn\u001b[39;00m \u001b[39mself\u001b[39m\u001b[39m.\u001b[39m_values[key]\n\u001b[1;32m    980\u001b[0m \u001b[39melif\u001b[39;00m key_is_scalar:\n\u001b[0;32m--> 981\u001b[0m     \u001b[39mreturn\u001b[39;00m \u001b[39mself\u001b[39;49m\u001b[39m.\u001b[39;49m_get_value(key)\n\u001b[1;32m    983\u001b[0m \u001b[39mif\u001b[39;00m is_hashable(key):\n\u001b[1;32m    984\u001b[0m     \u001b[39m# Otherwise index.get_value will raise InvalidIndexError\u001b[39;00m\n\u001b[1;32m    985\u001b[0m     \u001b[39mtry\u001b[39;00m:\n\u001b[1;32m    986\u001b[0m         \u001b[39m# For labels that don't resolve as scalars like tuples and frozensets\u001b[39;00m\n",
      "File \u001b[0;32m/workspaces/psychoanalyze/.venv/lib/python3.11/site-packages/pandas/core/series.py:1089\u001b[0m, in \u001b[0;36mSeries._get_value\u001b[0;34m(self, label, takeable)\u001b[0m\n\u001b[1;32m   1086\u001b[0m     \u001b[39mreturn\u001b[39;00m \u001b[39mself\u001b[39m\u001b[39m.\u001b[39m_values[label]\n\u001b[1;32m   1088\u001b[0m \u001b[39m# Similar to Index.get_value, but we do not fall back to positional\u001b[39;00m\n\u001b[0;32m-> 1089\u001b[0m loc \u001b[39m=\u001b[39m \u001b[39mself\u001b[39;49m\u001b[39m.\u001b[39;49mindex\u001b[39m.\u001b[39;49mget_loc(label)\n\u001b[1;32m   1090\u001b[0m \u001b[39mreturn\u001b[39;00m \u001b[39mself\u001b[39m\u001b[39m.\u001b[39mindex\u001b[39m.\u001b[39m_get_values_for_loc(\u001b[39mself\u001b[39m, loc, label)\n",
      "File \u001b[0;32m/workspaces/psychoanalyze/.venv/lib/python3.11/site-packages/pandas/core/indexes/base.py:3804\u001b[0m, in \u001b[0;36mIndex.get_loc\u001b[0;34m(self, key, method, tolerance)\u001b[0m\n\u001b[1;32m   3802\u001b[0m     \u001b[39mreturn\u001b[39;00m \u001b[39mself\u001b[39m\u001b[39m.\u001b[39m_engine\u001b[39m.\u001b[39mget_loc(casted_key)\n\u001b[1;32m   3803\u001b[0m \u001b[39mexcept\u001b[39;00m \u001b[39mKeyError\u001b[39;00m \u001b[39mas\u001b[39;00m err:\n\u001b[0;32m-> 3804\u001b[0m     \u001b[39mraise\u001b[39;00m \u001b[39mKeyError\u001b[39;00m(key) \u001b[39mfrom\u001b[39;00m \u001b[39merr\u001b[39;00m\n\u001b[1;32m   3805\u001b[0m \u001b[39mexcept\u001b[39;00m \u001b[39mTypeError\u001b[39;00m:\n\u001b[1;32m   3806\u001b[0m     \u001b[39m# If we have a listlike key, _check_indexing_error will raise\u001b[39;00m\n\u001b[1;32m   3807\u001b[0m     \u001b[39m#  InvalidIndexError. Otherwise we fall through and re-raise\u001b[39;00m\n\u001b[1;32m   3808\u001b[0m     \u001b[39m#  the TypeError.\u001b[39;00m\n\u001b[1;32m   3809\u001b[0m     \u001b[39mself\u001b[39m\u001b[39m.\u001b[39m_check_indexing_error(key)\n",
      "\u001b[0;31mKeyError\u001b[0m: 'Result'"
     ]
    }
   ],
   "source": [
    "pa.points.from_trials(pa.trials.moc_sample(\n",
    "    min_intensity, max_intensity, n_trials, k, x_0\n",
    "))"
   ]
  },
  {
   "cell_type": "code",
   "execution_count": 142,
   "metadata": {},
   "outputs": [
    {
     "data": {
      "text/plain": [
       "Day  Subject  Fixed Intensity  Intensity\n",
       "0    0        -4                0            True\n",
       "                               -3           False\n",
       "                               -1           False\n",
       "                                1            True\n",
       "                                1            True\n",
       "                                            ...  \n",
       "4    1         4                0           False\n",
       "                               -1           False\n",
       "                               -2           False\n",
       "                                0            True\n",
       "                               -1           False\n",
       "Name: Result, Length: 9000, dtype: bool"
      ]
     },
     "execution_count": 142,
     "metadata": {},
     "output_type": "execute_result"
    }
   ],
   "source": [
    "trials = pd.concat(\n",
    "        {\n",
    "            day: pd.concat(\n",
    "                {\n",
    "                    subj: pd.concat(\n",
    "                        {\n",
    "                            fixed_intensity: pa.trials.moc_sample(\n",
    "                                min_intensity, max_intensity, n_trials, k, x_0\n",
    "                            )\n",
    "                            for fixed_intensity in range(fixed_min, fixed_max + 1)\n",
    "                        },\n",
    "                        names=[\"Fixed Intensity\"],\n",
    "                    )\n",
    "                    for subj in range(n_subjects)\n",
    "                },\n",
    "                names=[\"Subject\"],\n",
    "            )\n",
    "            for day in range(5)\n",
    "        },\n",
    "        names=[\"Day\"],\n",
    "    )\n",
    "trials"
   ]
  },
  {
   "cell_type": "code",
   "execution_count": 149,
   "metadata": {},
   "outputs": [
    {
     "data": {
      "text/plain": [
       "Day  Subject  Fixed Intensity\n",
       "0    0        -4                 100\n",
       "              -3                 100\n",
       "              -2                 100\n",
       "              -1                 100\n",
       "               0                 100\n",
       "                                ... \n",
       "4    1         0                 100\n",
       "               1                 100\n",
       "               2                 100\n",
       "               3                 100\n",
       "               4                 100\n",
       "Name: Result, Length: 90, dtype: int64"
      ]
     },
     "execution_count": 149,
     "metadata": {},
     "output_type": "execute_result"
    }
   ],
   "source": [
    "pa.points.n(trials)"
   ]
  },
  {
   "cell_type": "code",
   "execution_count": 158,
   "metadata": {},
   "outputs": [
    {
     "data": {
      "text/html": [
       "<div>\n",
       "<style scoped>\n",
       "    .dataframe tbody tr th:only-of-type {\n",
       "        vertical-align: middle;\n",
       "    }\n",
       "\n",
       "    .dataframe tbody tr th {\n",
       "        vertical-align: top;\n",
       "    }\n",
       "\n",
       "    .dataframe thead th {\n",
       "        text-align: right;\n",
       "    }\n",
       "</style>\n",
       "<table border=\"1\" class=\"dataframe\">\n",
       "  <thead>\n",
       "    <tr style=\"text-align: right;\">\n",
       "      <th></th>\n",
       "      <th></th>\n",
       "      <th></th>\n",
       "      <th>Hits</th>\n",
       "      <th>n</th>\n",
       "      <th>Hit Rate</th>\n",
       "    </tr>\n",
       "    <tr>\n",
       "      <th>Day</th>\n",
       "      <th>Subject</th>\n",
       "      <th>Fixed Intensity</th>\n",
       "      <th></th>\n",
       "      <th></th>\n",
       "      <th></th>\n",
       "    </tr>\n",
       "  </thead>\n",
       "  <tbody>\n",
       "    <tr>\n",
       "      <th rowspan=\"5\" valign=\"top\">0</th>\n",
       "      <th rowspan=\"5\" valign=\"top\">0</th>\n",
       "      <th>-4</th>\n",
       "      <td>58</td>\n",
       "      <td>100</td>\n",
       "      <td>0.58</td>\n",
       "    </tr>\n",
       "    <tr>\n",
       "      <th>-3</th>\n",
       "      <td>47</td>\n",
       "      <td>100</td>\n",
       "      <td>0.47</td>\n",
       "    </tr>\n",
       "    <tr>\n",
       "      <th>-2</th>\n",
       "      <td>55</td>\n",
       "      <td>100</td>\n",
       "      <td>0.55</td>\n",
       "    </tr>\n",
       "    <tr>\n",
       "      <th>-1</th>\n",
       "      <td>50</td>\n",
       "      <td>100</td>\n",
       "      <td>0.50</td>\n",
       "    </tr>\n",
       "    <tr>\n",
       "      <th>0</th>\n",
       "      <td>58</td>\n",
       "      <td>100</td>\n",
       "      <td>0.58</td>\n",
       "    </tr>\n",
       "    <tr>\n",
       "      <th>...</th>\n",
       "      <th>...</th>\n",
       "      <th>...</th>\n",
       "      <td>...</td>\n",
       "      <td>...</td>\n",
       "      <td>...</td>\n",
       "    </tr>\n",
       "    <tr>\n",
       "      <th rowspan=\"5\" valign=\"top\">4</th>\n",
       "      <th rowspan=\"5\" valign=\"top\">1</th>\n",
       "      <th>0</th>\n",
       "      <td>46</td>\n",
       "      <td>100</td>\n",
       "      <td>0.46</td>\n",
       "    </tr>\n",
       "    <tr>\n",
       "      <th>1</th>\n",
       "      <td>45</td>\n",
       "      <td>100</td>\n",
       "      <td>0.45</td>\n",
       "    </tr>\n",
       "    <tr>\n",
       "      <th>2</th>\n",
       "      <td>48</td>\n",
       "      <td>100</td>\n",
       "      <td>0.48</td>\n",
       "    </tr>\n",
       "    <tr>\n",
       "      <th>3</th>\n",
       "      <td>49</td>\n",
       "      <td>100</td>\n",
       "      <td>0.49</td>\n",
       "    </tr>\n",
       "    <tr>\n",
       "      <th>4</th>\n",
       "      <td>58</td>\n",
       "      <td>100</td>\n",
       "      <td>0.58</td>\n",
       "    </tr>\n",
       "  </tbody>\n",
       "</table>\n",
       "<p>90 rows × 3 columns</p>\n",
       "</div>"
      ],
      "text/plain": [
       "                             Hits    n  Hit Rate\n",
       "Day Subject Fixed Intensity                     \n",
       "0   0       -4                 58  100      0.58\n",
       "            -3                 47  100      0.47\n",
       "            -2                 55  100      0.55\n",
       "            -1                 50  100      0.50\n",
       "             0                 58  100      0.58\n",
       "...                           ...  ...       ...\n",
       "4   1        0                 46  100      0.46\n",
       "             1                 45  100      0.45\n",
       "             2                 48  100      0.48\n",
       "             3                 49  100      0.49\n",
       "             4                 58  100      0.58\n",
       "\n",
       "[90 rows x 3 columns]"
      ]
     },
     "execution_count": 158,
     "metadata": {},
     "output_type": "execute_result"
    }
   ],
   "source": [
    "pa.points.from_trials(trials)"
   ]
  },
  {
   "cell_type": "code",
   "execution_count": 130,
   "metadata": {},
   "outputs": [
    {
     "ename": "ValueError",
     "evalue": "No objects to concatenate",
     "output_type": "error",
     "traceback": [
      "\u001b[0;31m---------------------------------------------------------------------------\u001b[0m",
      "\u001b[0;31mValueError\u001b[0m                                Traceback (most recent call last)",
      "Cell \u001b[0;32mIn[130], line 2\u001b[0m\n\u001b[1;32m      1\u001b[0m pd\u001b[39m.\u001b[39mconcat(\n\u001b[0;32m----> 2\u001b[0m     {\n\u001b[1;32m      3\u001b[0m         day: pa\u001b[39m.\u001b[39;49msessions\u001b[39m.\u001b[39;49mfrom_frames_dict(\n\u001b[1;32m      4\u001b[0m             {\n\u001b[1;32m      5\u001b[0m                 subj: pa\u001b[39m.\u001b[39;49mtrials\u001b[39m.\u001b[39;49mmoc_sample(\n\u001b[1;32m      6\u001b[0m                     min_intensity, max_intensity, n_trials, k, x_0, fixed_min, fixed_max\n\u001b[1;32m      7\u001b[0m                 )\n\u001b[1;32m      8\u001b[0m                 \u001b[39mfor\u001b[39;49;00m subj \u001b[39min\u001b[39;49;00m \u001b[39mrange\u001b[39;49m(n_subjects)\n\u001b[1;32m      9\u001b[0m             }\n\u001b[1;32m     10\u001b[0m         ) \u001b[39mfor\u001b[39;49;00m day \u001b[39min\u001b[39;49;00m \u001b[39mrange\u001b[39;49m(\u001b[39m5\u001b[39;49m)\n\u001b[1;32m     11\u001b[0m     },\n\u001b[1;32m     12\u001b[0m     names\u001b[39m=\u001b[39m[\u001b[39m\"\u001b[39m\u001b[39mDay\u001b[39m\u001b[39m\"\u001b[39m] \n\u001b[1;32m     13\u001b[0m )\n",
      "Cell \u001b[0;32mIn[130], line 4\u001b[0m, in \u001b[0;36m<dictcomp>\u001b[0;34m(.0)\u001b[0m\n\u001b[1;32m      1\u001b[0m pd\u001b[39m.\u001b[39mconcat(\n\u001b[1;32m      2\u001b[0m     {\n\u001b[1;32m      3\u001b[0m         day: pa\u001b[39m.\u001b[39msessions\u001b[39m.\u001b[39mfrom_frames_dict(\n\u001b[0;32m----> 4\u001b[0m             {\n\u001b[1;32m      5\u001b[0m                 subj: pa\u001b[39m.\u001b[39;49mtrials\u001b[39m.\u001b[39;49mmoc_sample(\n\u001b[1;32m      6\u001b[0m                     min_intensity, max_intensity, n_trials, k, x_0, fixed_min, fixed_max\n\u001b[1;32m      7\u001b[0m                 )\n\u001b[1;32m      8\u001b[0m                 \u001b[39mfor\u001b[39;49;00m subj \u001b[39min\u001b[39;49;00m \u001b[39mrange\u001b[39;49m(n_subjects)\n\u001b[1;32m      9\u001b[0m             }\n\u001b[1;32m     10\u001b[0m         ) \u001b[39mfor\u001b[39;00m day \u001b[39min\u001b[39;00m \u001b[39mrange\u001b[39m(\u001b[39m5\u001b[39m)\n\u001b[1;32m     11\u001b[0m     },\n\u001b[1;32m     12\u001b[0m     names\u001b[39m=\u001b[39m[\u001b[39m\"\u001b[39m\u001b[39mDay\u001b[39m\u001b[39m\"\u001b[39m] \n\u001b[1;32m     13\u001b[0m )\n",
      "Cell \u001b[0;32mIn[130], line 5\u001b[0m, in \u001b[0;36m<dictcomp>\u001b[0;34m(.0)\u001b[0m\n\u001b[1;32m      1\u001b[0m pd\u001b[39m.\u001b[39mconcat(\n\u001b[1;32m      2\u001b[0m     {\n\u001b[1;32m      3\u001b[0m         day: pa\u001b[39m.\u001b[39msessions\u001b[39m.\u001b[39mfrom_frames_dict(\n\u001b[1;32m      4\u001b[0m             {\n\u001b[0;32m----> 5\u001b[0m                 subj: pa\u001b[39m.\u001b[39;49mtrials\u001b[39m.\u001b[39;49mmoc_sample(\n\u001b[1;32m      6\u001b[0m                     min_intensity, max_intensity, n_trials, k, x_0, fixed_min, fixed_max\n\u001b[1;32m      7\u001b[0m                 )\n\u001b[1;32m      8\u001b[0m                 \u001b[39mfor\u001b[39;00m subj \u001b[39min\u001b[39;00m \u001b[39mrange\u001b[39m(n_subjects)\n\u001b[1;32m      9\u001b[0m             }\n\u001b[1;32m     10\u001b[0m         ) \u001b[39mfor\u001b[39;00m day \u001b[39min\u001b[39;00m \u001b[39mrange\u001b[39m(\u001b[39m5\u001b[39m)\n\u001b[1;32m     11\u001b[0m     },\n\u001b[1;32m     12\u001b[0m     names\u001b[39m=\u001b[39m[\u001b[39m\"\u001b[39m\u001b[39mDay\u001b[39m\u001b[39m\"\u001b[39m] \n\u001b[1;32m     13\u001b[0m )\n",
      "File \u001b[0;32m/workspaces/psychoanalyze/psychoanalyze/trials.py:128\u001b[0m, in \u001b[0;36mmoc_sample\u001b[0;34m(min_intensity, max_intensity, n_trials, k, x_0, min_fixed, max_fixed)\u001b[0m\n\u001b[1;32m    124\u001b[0m intensity_choices \u001b[39m=\u001b[39m pd\u001b[39m.\u001b[39mIndex(\n\u001b[1;32m    125\u001b[0m     \u001b[39mrange\u001b[39m(min_intensity, max_intensity \u001b[39m+\u001b[39m \u001b[39m1\u001b[39m), name\u001b[39m=\u001b[39m\u001b[39m\"\u001b[39m\u001b[39mIntensity\u001b[39m\u001b[39m\"\u001b[39m\n\u001b[1;32m    126\u001b[0m )\n\u001b[1;32m    127\u001b[0m intensities \u001b[39m=\u001b[39m [random\u001b[39m.\u001b[39mchoice(intensity_choices) \u001b[39mfor\u001b[39;00m _ \u001b[39min\u001b[39;00m \u001b[39mrange\u001b[39m(n_trials)]\n\u001b[0;32m--> 128\u001b[0m \u001b[39mreturn\u001b[39;00m pd\u001b[39m.\u001b[39;49mconcat(\n\u001b[1;32m    129\u001b[0m     {\n\u001b[1;32m    130\u001b[0m         i: pd\u001b[39m.\u001b[39;49mDataFrame(\n\u001b[1;32m    131\u001b[0m             {\n\u001b[1;32m    132\u001b[0m                 \u001b[39m\"\u001b[39;49m\u001b[39mIntensity\u001b[39;49m\u001b[39m\"\u001b[39;49m: intensities,\n\u001b[1;32m    133\u001b[0m                 \u001b[39m\"\u001b[39;49m\u001b[39mResult\u001b[39;49m\u001b[39m\"\u001b[39;49m: [\n\u001b[1;32m    134\u001b[0m                     random\u001b[39m.\u001b[39;49mrandom() \u001b[39m<\u001b[39;49m\u001b[39m=\u001b[39;49m \u001b[39m1\u001b[39;49m \u001b[39m/\u001b[39;49m (\u001b[39m1\u001b[39;49m \u001b[39m+\u001b[39;49m np\u001b[39m.\u001b[39;49mexp(\u001b[39m-\u001b[39;49mk \u001b[39m*\u001b[39;49m (intensity \u001b[39m-\u001b[39;49m x_0)))\n\u001b[1;32m    135\u001b[0m                     \u001b[39mfor\u001b[39;49;00m intensity \u001b[39min\u001b[39;49;00m intensities\n\u001b[1;32m    136\u001b[0m                 ],\n\u001b[1;32m    137\u001b[0m             }\n\u001b[1;32m    138\u001b[0m         )\n\u001b[1;32m    139\u001b[0m         \u001b[39mfor\u001b[39;49;00m i \u001b[39min\u001b[39;49;00m \u001b[39mrange\u001b[39;49m(min_fixed, max_fixed)\n\u001b[1;32m    140\u001b[0m     },\n\u001b[1;32m    141\u001b[0m     names\u001b[39m=\u001b[39;49m[\u001b[39m\"\u001b[39;49m\u001b[39mFixed Intensity\u001b[39;49m\u001b[39m\"\u001b[39;49m, \u001b[39m\"\u001b[39;49m\u001b[39mTrialID\u001b[39;49m\u001b[39m\"\u001b[39;49m],\n\u001b[1;32m    142\u001b[0m )\n",
      "File \u001b[0;32m/workspaces/psychoanalyze/.venv/lib/python3.11/site-packages/pandas/util/_decorators.py:331\u001b[0m, in \u001b[0;36mdeprecate_nonkeyword_arguments.<locals>.decorate.<locals>.wrapper\u001b[0;34m(*args, **kwargs)\u001b[0m\n\u001b[1;32m    325\u001b[0m \u001b[39mif\u001b[39;00m \u001b[39mlen\u001b[39m(args) \u001b[39m>\u001b[39m num_allow_args:\n\u001b[1;32m    326\u001b[0m     warnings\u001b[39m.\u001b[39mwarn(\n\u001b[1;32m    327\u001b[0m         msg\u001b[39m.\u001b[39mformat(arguments\u001b[39m=\u001b[39m_format_argument_list(allow_args)),\n\u001b[1;32m    328\u001b[0m         \u001b[39mFutureWarning\u001b[39;00m,\n\u001b[1;32m    329\u001b[0m         stacklevel\u001b[39m=\u001b[39mfind_stack_level(),\n\u001b[1;32m    330\u001b[0m     )\n\u001b[0;32m--> 331\u001b[0m \u001b[39mreturn\u001b[39;00m func(\u001b[39m*\u001b[39;49margs, \u001b[39m*\u001b[39;49m\u001b[39m*\u001b[39;49mkwargs)\n",
      "File \u001b[0;32m/workspaces/psychoanalyze/.venv/lib/python3.11/site-packages/pandas/core/reshape/concat.py:368\u001b[0m, in \u001b[0;36mconcat\u001b[0;34m(objs, axis, join, ignore_index, keys, levels, names, verify_integrity, sort, copy)\u001b[0m\n\u001b[1;32m    146\u001b[0m \u001b[39m@deprecate_nonkeyword_arguments\u001b[39m(version\u001b[39m=\u001b[39m\u001b[39mNone\u001b[39;00m, allowed_args\u001b[39m=\u001b[39m[\u001b[39m\"\u001b[39m\u001b[39mobjs\u001b[39m\u001b[39m\"\u001b[39m])\n\u001b[1;32m    147\u001b[0m \u001b[39mdef\u001b[39;00m \u001b[39mconcat\u001b[39m(\n\u001b[1;32m    148\u001b[0m     objs: Iterable[NDFrame] \u001b[39m|\u001b[39m Mapping[HashableT, NDFrame],\n\u001b[0;32m   (...)\u001b[0m\n\u001b[1;32m    157\u001b[0m     copy: \u001b[39mbool\u001b[39m \u001b[39m=\u001b[39m \u001b[39mTrue\u001b[39;00m,\n\u001b[1;32m    158\u001b[0m ) \u001b[39m-\u001b[39m\u001b[39m>\u001b[39m DataFrame \u001b[39m|\u001b[39m Series:\n\u001b[1;32m    159\u001b[0m \u001b[39m    \u001b[39m\u001b[39m\"\"\"\u001b[39;00m\n\u001b[1;32m    160\u001b[0m \u001b[39m    Concatenate pandas objects along a particular axis.\u001b[39;00m\n\u001b[1;32m    161\u001b[0m \n\u001b[0;32m   (...)\u001b[0m\n\u001b[1;32m    366\u001b[0m \u001b[39m    1   3   4\u001b[39;00m\n\u001b[1;32m    367\u001b[0m \u001b[39m    \"\"\"\u001b[39;00m\n\u001b[0;32m--> 368\u001b[0m     op \u001b[39m=\u001b[39m _Concatenator(\n\u001b[1;32m    369\u001b[0m         objs,\n\u001b[1;32m    370\u001b[0m         axis\u001b[39m=\u001b[39;49maxis,\n\u001b[1;32m    371\u001b[0m         ignore_index\u001b[39m=\u001b[39;49mignore_index,\n\u001b[1;32m    372\u001b[0m         join\u001b[39m=\u001b[39;49mjoin,\n\u001b[1;32m    373\u001b[0m         keys\u001b[39m=\u001b[39;49mkeys,\n\u001b[1;32m    374\u001b[0m         levels\u001b[39m=\u001b[39;49mlevels,\n\u001b[1;32m    375\u001b[0m         names\u001b[39m=\u001b[39;49mnames,\n\u001b[1;32m    376\u001b[0m         verify_integrity\u001b[39m=\u001b[39;49mverify_integrity,\n\u001b[1;32m    377\u001b[0m         copy\u001b[39m=\u001b[39;49mcopy,\n\u001b[1;32m    378\u001b[0m         sort\u001b[39m=\u001b[39;49msort,\n\u001b[1;32m    379\u001b[0m     )\n\u001b[1;32m    381\u001b[0m     \u001b[39mreturn\u001b[39;00m op\u001b[39m.\u001b[39mget_result()\n",
      "File \u001b[0;32m/workspaces/psychoanalyze/.venv/lib/python3.11/site-packages/pandas/core/reshape/concat.py:425\u001b[0m, in \u001b[0;36m_Concatenator.__init__\u001b[0;34m(self, objs, axis, join, keys, levels, names, ignore_index, verify_integrity, copy, sort)\u001b[0m\n\u001b[1;32m    422\u001b[0m     objs \u001b[39m=\u001b[39m \u001b[39mlist\u001b[39m(objs)\n\u001b[1;32m    424\u001b[0m \u001b[39mif\u001b[39;00m \u001b[39mlen\u001b[39m(objs) \u001b[39m==\u001b[39m \u001b[39m0\u001b[39m:\n\u001b[0;32m--> 425\u001b[0m     \u001b[39mraise\u001b[39;00m \u001b[39mValueError\u001b[39;00m(\u001b[39m\"\u001b[39m\u001b[39mNo objects to concatenate\u001b[39m\u001b[39m\"\u001b[39m)\n\u001b[1;32m    427\u001b[0m \u001b[39mif\u001b[39;00m keys \u001b[39mis\u001b[39;00m \u001b[39mNone\u001b[39;00m:\n\u001b[1;32m    428\u001b[0m     objs \u001b[39m=\u001b[39m \u001b[39mlist\u001b[39m(com\u001b[39m.\u001b[39mnot_none(\u001b[39m*\u001b[39mobjs))\n",
      "\u001b[0;31mValueError\u001b[0m: No objects to concatenate"
     ]
    }
   ],
   "source": [
    "pd.concat(\n",
    "    {\n",
    "        day: pa.sessions.from_frames_dict(\n",
    "            {\n",
    "                subj: pa.trials.moc_sample(\n",
    "                    min_intensity, max_intensity, n_trials, k, x_0, fixed_min, fixed_max\n",
    "                )\n",
    "                for subj in range(n_subjects)\n",
    "            }\n",
    "        ) for day in range(5)\n",
    "    },\n",
    "    names=[\"Day\"] \n",
    ")"
   ]
  },
  {
   "cell_type": "code",
   "execution_count": 132,
   "metadata": {},
   "outputs": [
    {
     "ename": "ValueError",
     "evalue": "No objects to concatenate",
     "output_type": "error",
     "traceback": [
      "\u001b[0;31m---------------------------------------------------------------------------\u001b[0m",
      "\u001b[0;31mValueError\u001b[0m                                Traceback (most recent call last)",
      "Cell \u001b[0;32mIn[132], line 2\u001b[0m\n\u001b[1;32m      1\u001b[0m pa\u001b[39m.\u001b[39msessions\u001b[39m.\u001b[39mfrom_frames_dict(\n\u001b[0;32m----> 2\u001b[0m             {\n\u001b[1;32m      3\u001b[0m                 subj: pa\u001b[39m.\u001b[39;49mtrials\u001b[39m.\u001b[39;49mmoc_sample(\n\u001b[1;32m      4\u001b[0m                     min_intensity, max_intensity, n_trials, k, x_0, fixed_min, fixed_max\n\u001b[1;32m      5\u001b[0m                 )\n\u001b[1;32m      6\u001b[0m                 \u001b[39mfor\u001b[39;49;00m subj \u001b[39min\u001b[39;49;00m \u001b[39mrange\u001b[39;49m(n_subjects)\n\u001b[1;32m      7\u001b[0m             }\n\u001b[1;32m      8\u001b[0m         ) \n",
      "Cell \u001b[0;32mIn[132], line 3\u001b[0m, in \u001b[0;36m<dictcomp>\u001b[0;34m(.0)\u001b[0m\n\u001b[1;32m      1\u001b[0m pa\u001b[39m.\u001b[39msessions\u001b[39m.\u001b[39mfrom_frames_dict(\n\u001b[1;32m      2\u001b[0m             {\n\u001b[0;32m----> 3\u001b[0m                 subj: pa\u001b[39m.\u001b[39;49mtrials\u001b[39m.\u001b[39;49mmoc_sample(\n\u001b[1;32m      4\u001b[0m                     min_intensity, max_intensity, n_trials, k, x_0, fixed_min, fixed_max\n\u001b[1;32m      5\u001b[0m                 )\n\u001b[1;32m      6\u001b[0m                 \u001b[39mfor\u001b[39;00m subj \u001b[39min\u001b[39;00m \u001b[39mrange\u001b[39m(n_subjects)\n\u001b[1;32m      7\u001b[0m             }\n\u001b[1;32m      8\u001b[0m         ) \n",
      "File \u001b[0;32m/workspaces/psychoanalyze/psychoanalyze/trials.py:128\u001b[0m, in \u001b[0;36mmoc_sample\u001b[0;34m(min_intensity, max_intensity, n_trials, k, x_0, min_fixed, max_fixed)\u001b[0m\n\u001b[1;32m    124\u001b[0m intensity_choices \u001b[39m=\u001b[39m pd\u001b[39m.\u001b[39mIndex(\n\u001b[1;32m    125\u001b[0m     \u001b[39mrange\u001b[39m(min_intensity, max_intensity \u001b[39m+\u001b[39m \u001b[39m1\u001b[39m), name\u001b[39m=\u001b[39m\u001b[39m\"\u001b[39m\u001b[39mIntensity\u001b[39m\u001b[39m\"\u001b[39m\n\u001b[1;32m    126\u001b[0m )\n\u001b[1;32m    127\u001b[0m intensities \u001b[39m=\u001b[39m [random\u001b[39m.\u001b[39mchoice(intensity_choices) \u001b[39mfor\u001b[39;00m _ \u001b[39min\u001b[39;00m \u001b[39mrange\u001b[39m(n_trials)]\n\u001b[0;32m--> 128\u001b[0m \u001b[39mreturn\u001b[39;00m pd\u001b[39m.\u001b[39;49mconcat(\n\u001b[1;32m    129\u001b[0m     {\n\u001b[1;32m    130\u001b[0m         i: pd\u001b[39m.\u001b[39;49mDataFrame(\n\u001b[1;32m    131\u001b[0m             {\n\u001b[1;32m    132\u001b[0m                 \u001b[39m\"\u001b[39;49m\u001b[39mIntensity\u001b[39;49m\u001b[39m\"\u001b[39;49m: intensities,\n\u001b[1;32m    133\u001b[0m                 \u001b[39m\"\u001b[39;49m\u001b[39mResult\u001b[39;49m\u001b[39m\"\u001b[39;49m: [\n\u001b[1;32m    134\u001b[0m                     random\u001b[39m.\u001b[39;49mrandom() \u001b[39m<\u001b[39;49m\u001b[39m=\u001b[39;49m \u001b[39m1\u001b[39;49m \u001b[39m/\u001b[39;49m (\u001b[39m1\u001b[39;49m \u001b[39m+\u001b[39;49m np\u001b[39m.\u001b[39;49mexp(\u001b[39m-\u001b[39;49mk \u001b[39m*\u001b[39;49m (intensity \u001b[39m-\u001b[39;49m x_0)))\n\u001b[1;32m    135\u001b[0m                     \u001b[39mfor\u001b[39;49;00m intensity \u001b[39min\u001b[39;49;00m intensities\n\u001b[1;32m    136\u001b[0m                 ],\n\u001b[1;32m    137\u001b[0m             }\n\u001b[1;32m    138\u001b[0m         )\n\u001b[1;32m    139\u001b[0m         \u001b[39mfor\u001b[39;49;00m i \u001b[39min\u001b[39;49;00m \u001b[39mrange\u001b[39;49m(min_fixed, max_fixed)\n\u001b[1;32m    140\u001b[0m     },\n\u001b[1;32m    141\u001b[0m     names\u001b[39m=\u001b[39;49m[\u001b[39m\"\u001b[39;49m\u001b[39mFixed Intensity\u001b[39;49m\u001b[39m\"\u001b[39;49m, \u001b[39m\"\u001b[39;49m\u001b[39mTrialID\u001b[39;49m\u001b[39m\"\u001b[39;49m],\n\u001b[1;32m    142\u001b[0m )\n",
      "File \u001b[0;32m/workspaces/psychoanalyze/.venv/lib/python3.11/site-packages/pandas/util/_decorators.py:331\u001b[0m, in \u001b[0;36mdeprecate_nonkeyword_arguments.<locals>.decorate.<locals>.wrapper\u001b[0;34m(*args, **kwargs)\u001b[0m\n\u001b[1;32m    325\u001b[0m \u001b[39mif\u001b[39;00m \u001b[39mlen\u001b[39m(args) \u001b[39m>\u001b[39m num_allow_args:\n\u001b[1;32m    326\u001b[0m     warnings\u001b[39m.\u001b[39mwarn(\n\u001b[1;32m    327\u001b[0m         msg\u001b[39m.\u001b[39mformat(arguments\u001b[39m=\u001b[39m_format_argument_list(allow_args)),\n\u001b[1;32m    328\u001b[0m         \u001b[39mFutureWarning\u001b[39;00m,\n\u001b[1;32m    329\u001b[0m         stacklevel\u001b[39m=\u001b[39mfind_stack_level(),\n\u001b[1;32m    330\u001b[0m     )\n\u001b[0;32m--> 331\u001b[0m \u001b[39mreturn\u001b[39;00m func(\u001b[39m*\u001b[39;49margs, \u001b[39m*\u001b[39;49m\u001b[39m*\u001b[39;49mkwargs)\n",
      "File \u001b[0;32m/workspaces/psychoanalyze/.venv/lib/python3.11/site-packages/pandas/core/reshape/concat.py:368\u001b[0m, in \u001b[0;36mconcat\u001b[0;34m(objs, axis, join, ignore_index, keys, levels, names, verify_integrity, sort, copy)\u001b[0m\n\u001b[1;32m    146\u001b[0m \u001b[39m@deprecate_nonkeyword_arguments\u001b[39m(version\u001b[39m=\u001b[39m\u001b[39mNone\u001b[39;00m, allowed_args\u001b[39m=\u001b[39m[\u001b[39m\"\u001b[39m\u001b[39mobjs\u001b[39m\u001b[39m\"\u001b[39m])\n\u001b[1;32m    147\u001b[0m \u001b[39mdef\u001b[39;00m \u001b[39mconcat\u001b[39m(\n\u001b[1;32m    148\u001b[0m     objs: Iterable[NDFrame] \u001b[39m|\u001b[39m Mapping[HashableT, NDFrame],\n\u001b[0;32m   (...)\u001b[0m\n\u001b[1;32m    157\u001b[0m     copy: \u001b[39mbool\u001b[39m \u001b[39m=\u001b[39m \u001b[39mTrue\u001b[39;00m,\n\u001b[1;32m    158\u001b[0m ) \u001b[39m-\u001b[39m\u001b[39m>\u001b[39m DataFrame \u001b[39m|\u001b[39m Series:\n\u001b[1;32m    159\u001b[0m \u001b[39m    \u001b[39m\u001b[39m\"\"\"\u001b[39;00m\n\u001b[1;32m    160\u001b[0m \u001b[39m    Concatenate pandas objects along a particular axis.\u001b[39;00m\n\u001b[1;32m    161\u001b[0m \n\u001b[0;32m   (...)\u001b[0m\n\u001b[1;32m    366\u001b[0m \u001b[39m    1   3   4\u001b[39;00m\n\u001b[1;32m    367\u001b[0m \u001b[39m    \"\"\"\u001b[39;00m\n\u001b[0;32m--> 368\u001b[0m     op \u001b[39m=\u001b[39m _Concatenator(\n\u001b[1;32m    369\u001b[0m         objs,\n\u001b[1;32m    370\u001b[0m         axis\u001b[39m=\u001b[39;49maxis,\n\u001b[1;32m    371\u001b[0m         ignore_index\u001b[39m=\u001b[39;49mignore_index,\n\u001b[1;32m    372\u001b[0m         join\u001b[39m=\u001b[39;49mjoin,\n\u001b[1;32m    373\u001b[0m         keys\u001b[39m=\u001b[39;49mkeys,\n\u001b[1;32m    374\u001b[0m         levels\u001b[39m=\u001b[39;49mlevels,\n\u001b[1;32m    375\u001b[0m         names\u001b[39m=\u001b[39;49mnames,\n\u001b[1;32m    376\u001b[0m         verify_integrity\u001b[39m=\u001b[39;49mverify_integrity,\n\u001b[1;32m    377\u001b[0m         copy\u001b[39m=\u001b[39;49mcopy,\n\u001b[1;32m    378\u001b[0m         sort\u001b[39m=\u001b[39;49msort,\n\u001b[1;32m    379\u001b[0m     )\n\u001b[1;32m    381\u001b[0m     \u001b[39mreturn\u001b[39;00m op\u001b[39m.\u001b[39mget_result()\n",
      "File \u001b[0;32m/workspaces/psychoanalyze/.venv/lib/python3.11/site-packages/pandas/core/reshape/concat.py:425\u001b[0m, in \u001b[0;36m_Concatenator.__init__\u001b[0;34m(self, objs, axis, join, keys, levels, names, ignore_index, verify_integrity, copy, sort)\u001b[0m\n\u001b[1;32m    422\u001b[0m     objs \u001b[39m=\u001b[39m \u001b[39mlist\u001b[39m(objs)\n\u001b[1;32m    424\u001b[0m \u001b[39mif\u001b[39;00m \u001b[39mlen\u001b[39m(objs) \u001b[39m==\u001b[39m \u001b[39m0\u001b[39m:\n\u001b[0;32m--> 425\u001b[0m     \u001b[39mraise\u001b[39;00m \u001b[39mValueError\u001b[39;00m(\u001b[39m\"\u001b[39m\u001b[39mNo objects to concatenate\u001b[39m\u001b[39m\"\u001b[39m)\n\u001b[1;32m    427\u001b[0m \u001b[39mif\u001b[39;00m keys \u001b[39mis\u001b[39;00m \u001b[39mNone\u001b[39;00m:\n\u001b[1;32m    428\u001b[0m     objs \u001b[39m=\u001b[39m \u001b[39mlist\u001b[39m(com\u001b[39m.\u001b[39mnot_none(\u001b[39m*\u001b[39mobjs))\n",
      "\u001b[0;31mValueError\u001b[0m: No objects to concatenate"
     ]
    }
   ],
   "source": [
    "pa.sessions.from_frames_dict(\n",
    "            {\n",
    "                subj: pa.trials.moc_sample(\n",
    "                    min_intensity, max_intensity, n_trials, k, x_0, fixed_min, fixed_max\n",
    "                )\n",
    "                for subj in range(n_subjects)\n",
    "            }\n",
    "        ) "
   ]
  },
  {
   "cell_type": "code",
   "execution_count": 133,
   "metadata": {},
   "outputs": [
    {
     "ename": "ValueError",
     "evalue": "No objects to concatenate",
     "output_type": "error",
     "traceback": [
      "\u001b[0;31m---------------------------------------------------------------------------\u001b[0m",
      "\u001b[0;31mValueError\u001b[0m                                Traceback (most recent call last)",
      "Cell \u001b[0;32mIn[133], line 1\u001b[0m\n\u001b[0;32m----> 1\u001b[0m pa\u001b[39m.\u001b[39;49mtrials\u001b[39m.\u001b[39;49mmoc_sample(\n\u001b[1;32m      2\u001b[0m                     min_intensity, max_intensity, n_trials, k, x_0, fixed_min, fixed_max\n\u001b[1;32m      3\u001b[0m                 )\n",
      "File \u001b[0;32m/workspaces/psychoanalyze/psychoanalyze/trials.py:128\u001b[0m, in \u001b[0;36mmoc_sample\u001b[0;34m(min_intensity, max_intensity, n_trials, k, x_0, min_fixed, max_fixed)\u001b[0m\n\u001b[1;32m    124\u001b[0m intensity_choices \u001b[39m=\u001b[39m pd\u001b[39m.\u001b[39mIndex(\n\u001b[1;32m    125\u001b[0m     \u001b[39mrange\u001b[39m(min_intensity, max_intensity \u001b[39m+\u001b[39m \u001b[39m1\u001b[39m), name\u001b[39m=\u001b[39m\u001b[39m\"\u001b[39m\u001b[39mIntensity\u001b[39m\u001b[39m\"\u001b[39m\n\u001b[1;32m    126\u001b[0m )\n\u001b[1;32m    127\u001b[0m intensities \u001b[39m=\u001b[39m [random\u001b[39m.\u001b[39mchoice(intensity_choices) \u001b[39mfor\u001b[39;00m _ \u001b[39min\u001b[39;00m \u001b[39mrange\u001b[39m(n_trials)]\n\u001b[0;32m--> 128\u001b[0m \u001b[39mreturn\u001b[39;00m pd\u001b[39m.\u001b[39;49mconcat(\n\u001b[1;32m    129\u001b[0m     {\n\u001b[1;32m    130\u001b[0m         i: pd\u001b[39m.\u001b[39;49mDataFrame(\n\u001b[1;32m    131\u001b[0m             {\n\u001b[1;32m    132\u001b[0m                 \u001b[39m\"\u001b[39;49m\u001b[39mIntensity\u001b[39;49m\u001b[39m\"\u001b[39;49m: intensities,\n\u001b[1;32m    133\u001b[0m                 \u001b[39m\"\u001b[39;49m\u001b[39mResult\u001b[39;49m\u001b[39m\"\u001b[39;49m: [\n\u001b[1;32m    134\u001b[0m                     random\u001b[39m.\u001b[39;49mrandom() \u001b[39m<\u001b[39;49m\u001b[39m=\u001b[39;49m \u001b[39m1\u001b[39;49m \u001b[39m/\u001b[39;49m (\u001b[39m1\u001b[39;49m \u001b[39m+\u001b[39;49m np\u001b[39m.\u001b[39;49mexp(\u001b[39m-\u001b[39;49mk \u001b[39m*\u001b[39;49m (intensity \u001b[39m-\u001b[39;49m x_0)))\n\u001b[1;32m    135\u001b[0m                     \u001b[39mfor\u001b[39;49;00m intensity \u001b[39min\u001b[39;49;00m intensities\n\u001b[1;32m    136\u001b[0m                 ],\n\u001b[1;32m    137\u001b[0m             }\n\u001b[1;32m    138\u001b[0m         )\n\u001b[1;32m    139\u001b[0m         \u001b[39mfor\u001b[39;49;00m i \u001b[39min\u001b[39;49;00m \u001b[39mrange\u001b[39;49m(min_fixed, max_fixed)\n\u001b[1;32m    140\u001b[0m     },\n\u001b[1;32m    141\u001b[0m     names\u001b[39m=\u001b[39;49m[\u001b[39m\"\u001b[39;49m\u001b[39mFixed Intensity\u001b[39;49m\u001b[39m\"\u001b[39;49m, \u001b[39m\"\u001b[39;49m\u001b[39mTrialID\u001b[39;49m\u001b[39m\"\u001b[39;49m],\n\u001b[1;32m    142\u001b[0m )\n",
      "File \u001b[0;32m/workspaces/psychoanalyze/.venv/lib/python3.11/site-packages/pandas/util/_decorators.py:331\u001b[0m, in \u001b[0;36mdeprecate_nonkeyword_arguments.<locals>.decorate.<locals>.wrapper\u001b[0;34m(*args, **kwargs)\u001b[0m\n\u001b[1;32m    325\u001b[0m \u001b[39mif\u001b[39;00m \u001b[39mlen\u001b[39m(args) \u001b[39m>\u001b[39m num_allow_args:\n\u001b[1;32m    326\u001b[0m     warnings\u001b[39m.\u001b[39mwarn(\n\u001b[1;32m    327\u001b[0m         msg\u001b[39m.\u001b[39mformat(arguments\u001b[39m=\u001b[39m_format_argument_list(allow_args)),\n\u001b[1;32m    328\u001b[0m         \u001b[39mFutureWarning\u001b[39;00m,\n\u001b[1;32m    329\u001b[0m         stacklevel\u001b[39m=\u001b[39mfind_stack_level(),\n\u001b[1;32m    330\u001b[0m     )\n\u001b[0;32m--> 331\u001b[0m \u001b[39mreturn\u001b[39;00m func(\u001b[39m*\u001b[39;49margs, \u001b[39m*\u001b[39;49m\u001b[39m*\u001b[39;49mkwargs)\n",
      "File \u001b[0;32m/workspaces/psychoanalyze/.venv/lib/python3.11/site-packages/pandas/core/reshape/concat.py:368\u001b[0m, in \u001b[0;36mconcat\u001b[0;34m(objs, axis, join, ignore_index, keys, levels, names, verify_integrity, sort, copy)\u001b[0m\n\u001b[1;32m    146\u001b[0m \u001b[39m@deprecate_nonkeyword_arguments\u001b[39m(version\u001b[39m=\u001b[39m\u001b[39mNone\u001b[39;00m, allowed_args\u001b[39m=\u001b[39m[\u001b[39m\"\u001b[39m\u001b[39mobjs\u001b[39m\u001b[39m\"\u001b[39m])\n\u001b[1;32m    147\u001b[0m \u001b[39mdef\u001b[39;00m \u001b[39mconcat\u001b[39m(\n\u001b[1;32m    148\u001b[0m     objs: Iterable[NDFrame] \u001b[39m|\u001b[39m Mapping[HashableT, NDFrame],\n\u001b[0;32m   (...)\u001b[0m\n\u001b[1;32m    157\u001b[0m     copy: \u001b[39mbool\u001b[39m \u001b[39m=\u001b[39m \u001b[39mTrue\u001b[39;00m,\n\u001b[1;32m    158\u001b[0m ) \u001b[39m-\u001b[39m\u001b[39m>\u001b[39m DataFrame \u001b[39m|\u001b[39m Series:\n\u001b[1;32m    159\u001b[0m \u001b[39m    \u001b[39m\u001b[39m\"\"\"\u001b[39;00m\n\u001b[1;32m    160\u001b[0m \u001b[39m    Concatenate pandas objects along a particular axis.\u001b[39;00m\n\u001b[1;32m    161\u001b[0m \n\u001b[0;32m   (...)\u001b[0m\n\u001b[1;32m    366\u001b[0m \u001b[39m    1   3   4\u001b[39;00m\n\u001b[1;32m    367\u001b[0m \u001b[39m    \"\"\"\u001b[39;00m\n\u001b[0;32m--> 368\u001b[0m     op \u001b[39m=\u001b[39m _Concatenator(\n\u001b[1;32m    369\u001b[0m         objs,\n\u001b[1;32m    370\u001b[0m         axis\u001b[39m=\u001b[39;49maxis,\n\u001b[1;32m    371\u001b[0m         ignore_index\u001b[39m=\u001b[39;49mignore_index,\n\u001b[1;32m    372\u001b[0m         join\u001b[39m=\u001b[39;49mjoin,\n\u001b[1;32m    373\u001b[0m         keys\u001b[39m=\u001b[39;49mkeys,\n\u001b[1;32m    374\u001b[0m         levels\u001b[39m=\u001b[39;49mlevels,\n\u001b[1;32m    375\u001b[0m         names\u001b[39m=\u001b[39;49mnames,\n\u001b[1;32m    376\u001b[0m         verify_integrity\u001b[39m=\u001b[39;49mverify_integrity,\n\u001b[1;32m    377\u001b[0m         copy\u001b[39m=\u001b[39;49mcopy,\n\u001b[1;32m    378\u001b[0m         sort\u001b[39m=\u001b[39;49msort,\n\u001b[1;32m    379\u001b[0m     )\n\u001b[1;32m    381\u001b[0m     \u001b[39mreturn\u001b[39;00m op\u001b[39m.\u001b[39mget_result()\n",
      "File \u001b[0;32m/workspaces/psychoanalyze/.venv/lib/python3.11/site-packages/pandas/core/reshape/concat.py:425\u001b[0m, in \u001b[0;36m_Concatenator.__init__\u001b[0;34m(self, objs, axis, join, keys, levels, names, ignore_index, verify_integrity, copy, sort)\u001b[0m\n\u001b[1;32m    422\u001b[0m     objs \u001b[39m=\u001b[39m \u001b[39mlist\u001b[39m(objs)\n\u001b[1;32m    424\u001b[0m \u001b[39mif\u001b[39;00m \u001b[39mlen\u001b[39m(objs) \u001b[39m==\u001b[39m \u001b[39m0\u001b[39m:\n\u001b[0;32m--> 425\u001b[0m     \u001b[39mraise\u001b[39;00m \u001b[39mValueError\u001b[39;00m(\u001b[39m\"\u001b[39m\u001b[39mNo objects to concatenate\u001b[39m\u001b[39m\"\u001b[39m)\n\u001b[1;32m    427\u001b[0m \u001b[39mif\u001b[39;00m keys \u001b[39mis\u001b[39;00m \u001b[39mNone\u001b[39;00m:\n\u001b[1;32m    428\u001b[0m     objs \u001b[39m=\u001b[39m \u001b[39mlist\u001b[39m(com\u001b[39m.\u001b[39mnot_none(\u001b[39m*\u001b[39mobjs))\n",
      "\u001b[0;31mValueError\u001b[0m: No objects to concatenate"
     ]
    }
   ],
   "source": [
    "pa.trials.moc_sample(\n",
    "                    min_intensity, max_intensity, n_trials, k, x_0, fixed_min, fixed_max\n",
    "                )"
   ]
  },
  {
   "cell_type": "code",
   "execution_count": 114,
   "metadata": {},
   "outputs": [
    {
     "data": {
      "text/plain": [
       "Subject  Block\n",
       "0        0        LogisticRegression()\n",
       "         1        LogisticRegression()\n",
       "1        0        LogisticRegression()\n",
       "         1        LogisticRegression()\n",
       "dtype: object"
      ]
     },
     "execution_count": 114,
     "metadata": {},
     "output_type": "execute_result"
    }
   ],
   "source": [
    "fits = trials.groupby([\"Subject\", \"Block\"]).apply(pa.blocks.get_fit)\n",
    "fits"
   ]
  },
  {
   "cell_type": "code",
   "execution_count": 113,
   "metadata": {},
   "outputs": [
    {
     "data": {
      "text/plain": [
       "Intensity\n",
       "-4    0.030736\n",
       "-3    0.074144\n",
       "-2    0.168215\n",
       "-1    0.338060\n",
       "0     0.563266\n",
       "1     0.765093\n",
       "2     0.891600\n",
       "3     0.954068\n",
       "4     0.981292\n",
       "Name: Hit Rate, dtype: float64"
      ]
     },
     "execution_count": 113,
     "metadata": {},
     "output_type": "execute_result"
    }
   ],
   "source": [
    "pa.blocks.make_predictions(fit, intensity_choices=intensity_choices)"
   ]
  },
  {
   "cell_type": "code",
   "execution_count": 69,
   "metadata": {},
   "outputs": [
    {
     "data": {
      "text/html": [
       "<div>\n",
       "<style scoped>\n",
       "    .dataframe tbody tr th:only-of-type {\n",
       "        vertical-align: middle;\n",
       "    }\n",
       "\n",
       "    .dataframe tbody tr th {\n",
       "        vertical-align: top;\n",
       "    }\n",
       "\n",
       "    .dataframe thead th {\n",
       "        text-align: right;\n",
       "    }\n",
       "</style>\n",
       "<table border=\"1\" class=\"dataframe\">\n",
       "  <thead>\n",
       "    <tr style=\"text-align: right;\">\n",
       "      <th></th>\n",
       "      <th></th>\n",
       "      <th>Hit Rate</th>\n",
       "    </tr>\n",
       "    <tr>\n",
       "      <th>Block</th>\n",
       "      <th>Intensity</th>\n",
       "      <th></th>\n",
       "    </tr>\n",
       "  </thead>\n",
       "  <tbody>\n",
       "    <tr>\n",
       "      <th rowspan=\"9\" valign=\"top\">0</th>\n",
       "      <th>-4</th>\n",
       "      <td>0.020199</td>\n",
       "    </tr>\n",
       "    <tr>\n",
       "      <th>-3</th>\n",
       "      <td>0.049223</td>\n",
       "    </tr>\n",
       "    <tr>\n",
       "      <th>-2</th>\n",
       "      <td>0.115058</td>\n",
       "    </tr>\n",
       "    <tr>\n",
       "      <th>-1</th>\n",
       "      <td>0.246149</td>\n",
       "    </tr>\n",
       "    <tr>\n",
       "      <th>0</th>\n",
       "      <td>0.450553</td>\n",
       "    </tr>\n",
       "    <tr>\n",
       "      <th>1</th>\n",
       "      <td>0.673133</td>\n",
       "    </tr>\n",
       "    <tr>\n",
       "      <th>2</th>\n",
       "      <td>0.837972</td>\n",
       "    </tr>\n",
       "    <tr>\n",
       "      <th>3</th>\n",
       "      <td>0.928511</td>\n",
       "    </tr>\n",
       "    <tr>\n",
       "      <th>4</th>\n",
       "      <td>0.970254</td>\n",
       "    </tr>\n",
       "    <tr>\n",
       "      <th rowspan=\"9\" valign=\"top\">1</th>\n",
       "      <th>-4</th>\n",
       "      <td>0.011850</td>\n",
       "    </tr>\n",
       "    <tr>\n",
       "      <th>-3</th>\n",
       "      <td>0.035786</td>\n",
       "    </tr>\n",
       "    <tr>\n",
       "      <th>-2</th>\n",
       "      <td>0.103026</td>\n",
       "    </tr>\n",
       "    <tr>\n",
       "      <th>-1</th>\n",
       "      <td>0.262244</td>\n",
       "    </tr>\n",
       "    <tr>\n",
       "      <th>0</th>\n",
       "      <td>0.523824</td>\n",
       "    </tr>\n",
       "    <tr>\n",
       "      <th>1</th>\n",
       "      <td>0.772956</td>\n",
       "    </tr>\n",
       "    <tr>\n",
       "      <th>2</th>\n",
       "      <td>0.913314</td>\n",
       "    </tr>\n",
       "    <tr>\n",
       "      <th>3</th>\n",
       "      <td>0.970243</td>\n",
       "    </tr>\n",
       "    <tr>\n",
       "      <th>4</th>\n",
       "      <td>0.990187</td>\n",
       "    </tr>\n",
       "  </tbody>\n",
       "</table>\n",
       "</div>"
      ],
      "text/plain": [
       "                 Hit Rate\n",
       "Block Intensity          \n",
       "0     -4         0.020199\n",
       "      -3         0.049223\n",
       "      -2         0.115058\n",
       "      -1         0.246149\n",
       "       0         0.450553\n",
       "       1         0.673133\n",
       "       2         0.837972\n",
       "       3         0.928511\n",
       "       4         0.970254\n",
       "1     -4         0.011850\n",
       "      -3         0.035786\n",
       "      -2         0.103026\n",
       "      -1         0.262244\n",
       "       0         0.523824\n",
       "       1         0.772956\n",
       "       2         0.913314\n",
       "       3         0.970243\n",
       "       4         0.990187"
      ]
     },
     "execution_count": 69,
     "metadata": {},
     "output_type": "execute_result"
    }
   ],
   "source": [
    "predictions = pa.subjects.make_predictions(fits, intensity_choices)\n",
    "predictions"
   ]
  },
  {
   "cell_type": "code",
   "execution_count": null,
   "metadata": {},
   "outputs": [],
   "source": [
    "predictions = fits.apply(pa.blocks.make_predictions, intensity_choices=intensity_choices)\n",
    "predictions"
   ]
  },
  {
   "cell_type": "code",
   "execution_count": 121,
   "metadata": {},
   "outputs": [
    {
     "data": {
      "text/html": [
       "<div>\n",
       "<style scoped>\n",
       "    .dataframe tbody tr th:only-of-type {\n",
       "        vertical-align: middle;\n",
       "    }\n",
       "\n",
       "    .dataframe tbody tr th {\n",
       "        vertical-align: top;\n",
       "    }\n",
       "\n",
       "    .dataframe thead th {\n",
       "        text-align: right;\n",
       "    }\n",
       "</style>\n",
       "<table border=\"1\" class=\"dataframe\">\n",
       "  <thead>\n",
       "    <tr style=\"text-align: right;\">\n",
       "      <th></th>\n",
       "      <th></th>\n",
       "      <th>slope</th>\n",
       "      <th>intercept</th>\n",
       "    </tr>\n",
       "    <tr>\n",
       "      <th>Subject</th>\n",
       "      <th>Block</th>\n",
       "      <th></th>\n",
       "      <th></th>\n",
       "    </tr>\n",
       "  </thead>\n",
       "  <tbody>\n",
       "    <tr>\n",
       "      <th rowspan=\"2\" valign=\"top\">0</th>\n",
       "      <th>0</th>\n",
       "      <td>0.926379</td>\n",
       "      <td>0.254427</td>\n",
       "    </tr>\n",
       "    <tr>\n",
       "      <th>1</th>\n",
       "      <td>1.599937</td>\n",
       "      <td>0.134766</td>\n",
       "    </tr>\n",
       "    <tr>\n",
       "      <th rowspan=\"2\" valign=\"top\">1</th>\n",
       "      <th>0</th>\n",
       "      <td>1.389645</td>\n",
       "      <td>-0.099479</td>\n",
       "    </tr>\n",
       "    <tr>\n",
       "      <th>1</th>\n",
       "      <td>0.729999</td>\n",
       "      <td>-0.419109</td>\n",
       "    </tr>\n",
       "  </tbody>\n",
       "</table>\n",
       "</div>"
      ],
      "text/plain": [
       "                  slope  intercept\n",
       "Subject Block                     \n",
       "0       0      0.926379   0.254427\n",
       "        1      1.599937   0.134766\n",
       "1       0      1.389645  -0.099479\n",
       "        1      0.729999  -0.419109"
      ]
     },
     "execution_count": 121,
     "metadata": {},
     "output_type": "execute_result"
    }
   ],
   "source": [
    "params = fits.apply(pa.blocks.fit_params)\n",
    "params"
   ]
  },
  {
   "cell_type": "code",
   "execution_count": 59,
   "metadata": {},
   "outputs": [
    {
     "data": {
      "text/plain": [
       "param      Block\n",
       "slope      0        1.075417\n",
       "           1        0.856080\n",
       "intercept  0       -0.095133\n",
       "           1        0.045637\n",
       "dtype: float64"
      ]
     },
     "execution_count": 59,
     "metadata": {},
     "output_type": "execute_result"
    }
   ],
   "source": [
    "pd.concat(\n",
    "    {\"slope\": pd.Series({\n",
    "        block: fits[block].coef_[0][0] for block in fits\n",
    "    }),\n",
    "    \"intercept\": pd.Series({\n",
    "        block: fits[block].intercept_[0] for block in fits\n",
    "    })\n",
    "    }, names=[\"param\", \"Block\"])"
   ]
  }
 ],
 "metadata": {
  "kernelspec": {
   "display_name": ".venv",
   "language": "python",
   "name": "python3"
  },
  "language_info": {
   "codemirror_mode": {
    "name": "ipython",
    "version": 3
   },
   "file_extension": ".py",
   "mimetype": "text/x-python",
   "name": "python",
   "nbconvert_exporter": "python",
   "pygments_lexer": "ipython3",
   "version": "3.11.3"
  },
  "orig_nbformat": 4
 },
 "nbformat": 4,
 "nbformat_minor": 2
}
