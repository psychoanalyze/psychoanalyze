{
 "cells": [
  {
   "cell_type": "markdown",
   "metadata": {},
   "source": [
    "[![Binder](https://mybinder.org/badge_logo.svg)](https://mybinder.org/v2/gh/psychoanalyze/psychoanalyze/main?labpath=docs%2Fnotebooks%2Ftutorial.ipynb)\n",
    "# PsychoAnalyze Python Tutorial / Demo\n",
    "\n",
    "## Ordinary Least Squares Logistic Regression on Trial Data\n",
    "\n",
    "### Data Schema\n",
    "\n",
    "The simplest psychophysical experiments consist of a series of trials measuring a binary-encoded response to an intensity-graded stimulus.\n",
    "\n",
    "Use the `trials` module to load data from a CSV or Parquet file into a Pandas DataFrame."
   ]
  },
  {
   "cell_type": "code",
   "execution_count": 3,
   "metadata": {},
   "outputs": [
    {
     "data": {
      "text/html": [
       "<div>\n",
       "<style scoped>\n",
       "    .dataframe tbody tr th:only-of-type {\n",
       "        vertical-align: middle;\n",
       "    }\n",
       "\n",
       "    .dataframe tbody tr th {\n",
       "        vertical-align: top;\n",
       "    }\n",
       "\n",
       "    .dataframe thead th {\n",
       "        text-align: right;\n",
       "    }\n",
       "</style>\n",
       "<table border=\"1\" class=\"dataframe\">\n",
       "  <thead>\n",
       "    <tr style=\"text-align: right;\">\n",
       "      <th></th>\n",
       "      <th>Block</th>\n",
       "      <th>Intensity</th>\n",
       "      <th>Result</th>\n",
       "    </tr>\n",
       "  </thead>\n",
       "  <tbody>\n",
       "    <tr>\n",
       "      <th>0</th>\n",
       "      <td>0</td>\n",
       "      <td>0.0</td>\n",
       "      <td>0</td>\n",
       "    </tr>\n",
       "    <tr>\n",
       "      <th>1</th>\n",
       "      <td>0</td>\n",
       "      <td>1.0</td>\n",
       "      <td>0</td>\n",
       "    </tr>\n",
       "    <tr>\n",
       "      <th>2</th>\n",
       "      <td>0</td>\n",
       "      <td>2.0</td>\n",
       "      <td>1</td>\n",
       "    </tr>\n",
       "    <tr>\n",
       "      <th>3</th>\n",
       "      <td>0</td>\n",
       "      <td>3.0</td>\n",
       "      <td>1</td>\n",
       "    </tr>\n",
       "    <tr>\n",
       "      <th>4</th>\n",
       "      <td>1</td>\n",
       "      <td>0.0</td>\n",
       "      <td>0</td>\n",
       "    </tr>\n",
       "    <tr>\n",
       "      <th>5</th>\n",
       "      <td>1</td>\n",
       "      <td>1.0</td>\n",
       "      <td>0</td>\n",
       "    </tr>\n",
       "    <tr>\n",
       "      <th>6</th>\n",
       "      <td>1</td>\n",
       "      <td>2.0</td>\n",
       "      <td>1</td>\n",
       "    </tr>\n",
       "    <tr>\n",
       "      <th>7</th>\n",
       "      <td>1</td>\n",
       "      <td>3.0</td>\n",
       "      <td>1</td>\n",
       "    </tr>\n",
       "  </tbody>\n",
       "</table>\n",
       "</div>"
      ],
      "text/plain": [
       "   Block  Intensity  Result\n",
       "0      0        0.0       0\n",
       "1      0        1.0       0\n",
       "2      0        2.0       1\n",
       "3      0        3.0       1\n",
       "4      1        0.0       0\n",
       "5      1        1.0       0\n",
       "6      1        2.0       1\n",
       "7      1        3.0       1"
      ]
     },
     "execution_count": 3,
     "metadata": {},
     "output_type": "execute_result"
    }
   ],
   "source": [
    "from psychoanalyze.data import trials\n",
    "\n",
    "example_trials = trials.load(\"tutorial_trials.csv\")\n",
    "example_trials\n"
   ]
  },
  {
   "cell_type": "markdown",
   "metadata": {},
   "source": []
  },
  {
   "cell_type": "code",
   "execution_count": 4,
   "metadata": {},
   "outputs": [
    {
     "name": "stdout",
     "output_type": "stream",
     "text": [
      "<class 'pandas.core.frame.DataFrame'>\n",
      "RangeIndex: 8 entries, 0 to 7\n",
      "Data columns (total 3 columns):\n",
      " #   Column     Non-Null Count  Dtype  \n",
      "---  ------     --------------  -----  \n",
      " 0   Block      8 non-null      int64  \n",
      " 1   Intensity  8 non-null      float64\n",
      " 2   Result     8 non-null      int64  \n",
      "dtypes: float64(1), int64(2)\n",
      "memory usage: 324.0 bytes\n"
     ]
    }
   ],
   "source": [
    "example_trials.info()\n"
   ]
  },
  {
   "cell_type": "markdown",
   "metadata": {},
   "source": [
    "### Logistic Regression in a Yes/No Experiment\n",
    "\n",
    "By designing the experiment such that the recorded response is a binary outcome, researchers may use logistic regression to model the relationship between the stimulus and the response; logistic regression is a generalized linear model that is appropriate for a series of binary (Bernoulli) trials.\n",
    "\n",
    "Let's examine the 1-dimensional case of the logistic function, which may represent a basic psychometric function $\\psi(x)$, using some tools from `psychoanalyze`.  $\\psi(x)$ models the probability of a \"yes\" response to a stimulus of intensity *x*:"
   ]
  },
  {
   "cell_type": "code",
   "execution_count": 6,
   "metadata": {},
   "outputs": [
    {
     "data": {
      "text/html": [
       "\n",
       "        <iframe\n",
       "            width=\"100%\"\n",
       "            height=\"650\"\n",
       "            src=\"http://127.0.0.1:8050/\"\n",
       "            frameborder=\"0\"\n",
       "            allowfullscreen\n",
       "            \n",
       "        ></iframe>\n",
       "        "
      ],
      "text/plain": [
       "<IPython.lib.display.IFrame at 0x7fb897f2b0d0>"
      ]
     },
     "metadata": {},
     "output_type": "display_data"
    }
   ],
   "source": [
    "from psychoanalyze.data.blocks import standard_logistic\n",
    "from psychoanalyze import plot\n",
    "import pandas as pd\n",
    "import plotly.express as px\n",
    "import plotly.io as pio\n",
    "from dash import Dash, dcc, html, callback, Input, Output\n",
    "import dash_bootstrap_components as dbc\n",
    "\n",
    "pio.renderers.default = \"plotly_mimetype+notebook_connected\"\n",
    "\n",
    "app = Dash(__name__, external_stylesheets=[dbc.themes.SPACELAB])\n",
    "\n",
    "app.layout = dbc.Container(\n",
    "    dbc.Row(\n",
    "        [\n",
    "            dbc.Col(\n",
    "                html.Button(\n",
    "                    \"Standard Logistic\",\n",
    "                    id=\"standard-logistic-button\",\n",
    "                    className=\"mb-3 btn btn-primary\",\n",
    "                ),\n",
    "            ),\n",
    "            dbc.Col(\n",
    "                [\n",
    "                    html.H5(\"Location\"),\n",
    "                    dcc.Slider(\n",
    "                        min=-4.0,\n",
    "                        max=4.0,\n",
    "                        step=0.01,\n",
    "                        value=0.0,\n",
    "                        included=False,\n",
    "                        tooltip={\"always_visible\": True, \"placement\": \"bottom\"},\n",
    "                        updatemode=\"drag\",\n",
    "                        marks={\n",
    "                            -4.0: \"-4.0\",\n",
    "                            -2.0: \"-2.0\",\n",
    "                            0.0: \"0.0\",\n",
    "                            2.0: \"2.0\",\n",
    "                            4.0: \"4.0\",\n",
    "                        },\n",
    "                        id=\"location-slider\",\n",
    "                    ),\n",
    "                ]\n",
    "            ),\n",
    "            dbc.Col(\n",
    "                [\n",
    "                    html.H5(\"Scale\"),\n",
    "                    dcc.Slider(\n",
    "                        min=-4.0,\n",
    "                        max=4.0,\n",
    "                        value=1.0,\n",
    "                        step=0.01,\n",
    "                        included=False,\n",
    "                        marks={\n",
    "                            -4.0: \"-4.0\",\n",
    "                            -2.0: \"-2.0\",\n",
    "                            0.0: \"0.0\",\n",
    "                            2.0: \"2.0\",\n",
    "                            4.0: \"4.0\",\n",
    "                        },\n",
    "                        tooltip={\"always_visible\": True, \"placement\": \"bottom\"},\n",
    "                        updatemode=\"drag\",\n",
    "                        id=\"scale-slider\",\n",
    "                    ),\n",
    "                ]\n",
    "            ),\n",
    "            dcc.Graph(\n",
    "                figure=plot.logistic(location=0.0, scale=1.0),\n",
    "                id=\"psi-plot\",\n",
    "            ),\n",
    "        ]\n",
    "    )\n",
    ")\n",
    "\n",
    "\n",
    "@callback(\n",
    "    Output(\"psi-plot\", \"figure\"),\n",
    "    Input(\"location-slider\", \"value\"),\n",
    "    Input(\"scale-slider\", \"value\"),\n",
    ")\n",
    "def update_psi_plot(location, scale):\n",
    "    return plot.logistic(location=location, scale=scale)\n",
    "\n",
    "\n",
    "if __name__ == \"__main__\":\n",
    "    app.run(debug=True)\n"
   ]
  },
  {
   "cell_type": "markdown",
   "metadata": {},
   "source": []
  }
 ],
 "metadata": {
  "kernelspec": {
   "display_name": ".venv",
   "language": "python",
   "name": "python3"
  },
  "language_info": {
   "codemirror_mode": {
    "name": "ipython",
    "version": 3
   },
   "file_extension": ".py",
   "mimetype": "text/x-python",
   "name": "python",
   "nbconvert_exporter": "python",
   "pygments_lexer": "ipython3",
   "version": "3.11.4"
  },
  "orig_nbformat": 4
 },
 "nbformat": 4,
 "nbformat_minor": 2
}
